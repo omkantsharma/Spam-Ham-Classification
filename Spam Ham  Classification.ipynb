{
 "cells": [
  {
   "cell_type": "markdown",
   "id": "f09712f1",
   "metadata": {},
   "source": [
    "# Spam Ham classification_"
   ]
  },
  {
   "cell_type": "code",
   "execution_count": 52,
   "id": "d4396f96",
   "metadata": {},
   "outputs": [],
   "source": [
    "# import Libraries\n",
    "import pandas as pd\n",
    "import numpy as np\n",
    "import matplotlib.pyplot as plt\n",
    "import seaborn as sns\n",
    "import re\n",
    "import nltk\n",
    "from sklearn.datasets import load_files\n",
    "import pickle\n",
    "from nltk.corpus import stopwords\n",
    "import chardet"
   ]
  },
  {
   "cell_type": "markdown",
   "id": "c4e3c260",
   "metadata": {},
   "source": [
    "- https://stackoverflow.com/questions/33819557/unicodedecodeerror-utf-8-codec-while-reading-a-csv-file\n",
    "- https://medium.com/swlh/confusion-matrix-and-classification-report-88105288d48f#:~:text=Weighted%20average%3A%20the%20weighted%20average%20is%20calculated%20by,47%29%2F%20%2867%20%2B%2047%29%20%3D%200.93%20%3D%2094%25"
   ]
  },
  {
   "cell_type": "code",
   "execution_count": 53,
   "id": "80162132",
   "metadata": {
    "scrolled": true
   },
   "outputs": [],
   "source": [
    "df=pd.read_csv('spam.csv', encoding='latin')"
   ]
  },
  {
   "cell_type": "code",
   "execution_count": 54,
   "id": "9fa31382",
   "metadata": {},
   "outputs": [
    {
     "data": {
      "text/html": [
       "<div>\n",
       "<style scoped>\n",
       "    .dataframe tbody tr th:only-of-type {\n",
       "        vertical-align: middle;\n",
       "    }\n",
       "\n",
       "    .dataframe tbody tr th {\n",
       "        vertical-align: top;\n",
       "    }\n",
       "\n",
       "    .dataframe thead th {\n",
       "        text-align: right;\n",
       "    }\n",
       "</style>\n",
       "<table border=\"1\" class=\"dataframe\">\n",
       "  <thead>\n",
       "    <tr style=\"text-align: right;\">\n",
       "      <th></th>\n",
       "      <th>v1</th>\n",
       "      <th>v2</th>\n",
       "      <th>Unnamed: 2</th>\n",
       "      <th>Unnamed: 3</th>\n",
       "      <th>Unnamed: 4</th>\n",
       "    </tr>\n",
       "  </thead>\n",
       "  <tbody>\n",
       "    <tr>\n",
       "      <th>0</th>\n",
       "      <td>ham</td>\n",
       "      <td>Go until jurong point, crazy.. Available only ...</td>\n",
       "      <td>NaN</td>\n",
       "      <td>NaN</td>\n",
       "      <td>NaN</td>\n",
       "    </tr>\n",
       "    <tr>\n",
       "      <th>1</th>\n",
       "      <td>ham</td>\n",
       "      <td>Ok lar... Joking wif u oni...</td>\n",
       "      <td>NaN</td>\n",
       "      <td>NaN</td>\n",
       "      <td>NaN</td>\n",
       "    </tr>\n",
       "    <tr>\n",
       "      <th>2</th>\n",
       "      <td>spam</td>\n",
       "      <td>Free entry in 2 a wkly comp to win FA Cup fina...</td>\n",
       "      <td>NaN</td>\n",
       "      <td>NaN</td>\n",
       "      <td>NaN</td>\n",
       "    </tr>\n",
       "    <tr>\n",
       "      <th>3</th>\n",
       "      <td>ham</td>\n",
       "      <td>U dun say so early hor... U c already then say...</td>\n",
       "      <td>NaN</td>\n",
       "      <td>NaN</td>\n",
       "      <td>NaN</td>\n",
       "    </tr>\n",
       "    <tr>\n",
       "      <th>4</th>\n",
       "      <td>ham</td>\n",
       "      <td>Nah I don't think he goes to usf, he lives aro...</td>\n",
       "      <td>NaN</td>\n",
       "      <td>NaN</td>\n",
       "      <td>NaN</td>\n",
       "    </tr>\n",
       "    <tr>\n",
       "      <th>...</th>\n",
       "      <td>...</td>\n",
       "      <td>...</td>\n",
       "      <td>...</td>\n",
       "      <td>...</td>\n",
       "      <td>...</td>\n",
       "    </tr>\n",
       "    <tr>\n",
       "      <th>5567</th>\n",
       "      <td>spam</td>\n",
       "      <td>This is the 2nd time we have tried 2 contact u...</td>\n",
       "      <td>NaN</td>\n",
       "      <td>NaN</td>\n",
       "      <td>NaN</td>\n",
       "    </tr>\n",
       "    <tr>\n",
       "      <th>5568</th>\n",
       "      <td>ham</td>\n",
       "      <td>Will Ì_ b going to esplanade fr home?</td>\n",
       "      <td>NaN</td>\n",
       "      <td>NaN</td>\n",
       "      <td>NaN</td>\n",
       "    </tr>\n",
       "    <tr>\n",
       "      <th>5569</th>\n",
       "      <td>ham</td>\n",
       "      <td>Pity, * was in mood for that. So...any other s...</td>\n",
       "      <td>NaN</td>\n",
       "      <td>NaN</td>\n",
       "      <td>NaN</td>\n",
       "    </tr>\n",
       "    <tr>\n",
       "      <th>5570</th>\n",
       "      <td>ham</td>\n",
       "      <td>The guy did some bitching but I acted like i'd...</td>\n",
       "      <td>NaN</td>\n",
       "      <td>NaN</td>\n",
       "      <td>NaN</td>\n",
       "    </tr>\n",
       "    <tr>\n",
       "      <th>5571</th>\n",
       "      <td>ham</td>\n",
       "      <td>Rofl. Its true to its name</td>\n",
       "      <td>NaN</td>\n",
       "      <td>NaN</td>\n",
       "      <td>NaN</td>\n",
       "    </tr>\n",
       "  </tbody>\n",
       "</table>\n",
       "<p>5572 rows × 5 columns</p>\n",
       "</div>"
      ],
      "text/plain": [
       "        v1                                                 v2 Unnamed: 2  \\\n",
       "0      ham  Go until jurong point, crazy.. Available only ...        NaN   \n",
       "1      ham                      Ok lar... Joking wif u oni...        NaN   \n",
       "2     spam  Free entry in 2 a wkly comp to win FA Cup fina...        NaN   \n",
       "3      ham  U dun say so early hor... U c already then say...        NaN   \n",
       "4      ham  Nah I don't think he goes to usf, he lives aro...        NaN   \n",
       "...    ...                                                ...        ...   \n",
       "5567  spam  This is the 2nd time we have tried 2 contact u...        NaN   \n",
       "5568   ham              Will Ì_ b going to esplanade fr home?        NaN   \n",
       "5569   ham  Pity, * was in mood for that. So...any other s...        NaN   \n",
       "5570   ham  The guy did some bitching but I acted like i'd...        NaN   \n",
       "5571   ham                         Rofl. Its true to its name        NaN   \n",
       "\n",
       "     Unnamed: 3 Unnamed: 4  \n",
       "0           NaN        NaN  \n",
       "1           NaN        NaN  \n",
       "2           NaN        NaN  \n",
       "3           NaN        NaN  \n",
       "4           NaN        NaN  \n",
       "...         ...        ...  \n",
       "5567        NaN        NaN  \n",
       "5568        NaN        NaN  \n",
       "5569        NaN        NaN  \n",
       "5570        NaN        NaN  \n",
       "5571        NaN        NaN  \n",
       "\n",
       "[5572 rows x 5 columns]"
      ]
     },
     "execution_count": 54,
     "metadata": {},
     "output_type": "execute_result"
    }
   ],
   "source": [
    "df"
   ]
  },
  {
   "cell_type": "code",
   "execution_count": 55,
   "id": "abb57461",
   "metadata": {},
   "outputs": [
    {
     "name": "stdout",
     "output_type": "stream",
     "text": [
      "<class 'pandas.core.frame.DataFrame'>\n",
      "RangeIndex: 5572 entries, 0 to 5571\n",
      "Data columns (total 5 columns):\n",
      " #   Column      Non-Null Count  Dtype \n",
      "---  ------      --------------  ----- \n",
      " 0   v1          5572 non-null   object\n",
      " 1   v2          5572 non-null   object\n",
      " 2   Unnamed: 2  50 non-null     object\n",
      " 3   Unnamed: 3  12 non-null     object\n",
      " 4   Unnamed: 4  6 non-null      object\n",
      "dtypes: object(5)\n",
      "memory usage: 217.8+ KB\n"
     ]
    }
   ],
   "source": [
    "df.info()"
   ]
  },
  {
   "cell_type": "code",
   "execution_count": 56,
   "id": "ea8979e7",
   "metadata": {},
   "outputs": [
    {
     "data": {
      "text/html": [
       "<div>\n",
       "<style scoped>\n",
       "    .dataframe tbody tr th:only-of-type {\n",
       "        vertical-align: middle;\n",
       "    }\n",
       "\n",
       "    .dataframe tbody tr th {\n",
       "        vertical-align: top;\n",
       "    }\n",
       "\n",
       "    .dataframe thead th {\n",
       "        text-align: right;\n",
       "    }\n",
       "</style>\n",
       "<table border=\"1\" class=\"dataframe\">\n",
       "  <thead>\n",
       "    <tr style=\"text-align: right;\">\n",
       "      <th></th>\n",
       "      <th>v1</th>\n",
       "      <th>v2</th>\n",
       "    </tr>\n",
       "  </thead>\n",
       "  <tbody>\n",
       "    <tr>\n",
       "      <th>0</th>\n",
       "      <td>ham</td>\n",
       "      <td>Go until jurong point, crazy.. Available only ...</td>\n",
       "    </tr>\n",
       "    <tr>\n",
       "      <th>1</th>\n",
       "      <td>ham</td>\n",
       "      <td>Ok lar... Joking wif u oni...</td>\n",
       "    </tr>\n",
       "    <tr>\n",
       "      <th>2</th>\n",
       "      <td>spam</td>\n",
       "      <td>Free entry in 2 a wkly comp to win FA Cup fina...</td>\n",
       "    </tr>\n",
       "    <tr>\n",
       "      <th>3</th>\n",
       "      <td>ham</td>\n",
       "      <td>U dun say so early hor... U c already then say...</td>\n",
       "    </tr>\n",
       "    <tr>\n",
       "      <th>4</th>\n",
       "      <td>ham</td>\n",
       "      <td>Nah I don't think he goes to usf, he lives aro...</td>\n",
       "    </tr>\n",
       "    <tr>\n",
       "      <th>...</th>\n",
       "      <td>...</td>\n",
       "      <td>...</td>\n",
       "    </tr>\n",
       "    <tr>\n",
       "      <th>5567</th>\n",
       "      <td>spam</td>\n",
       "      <td>This is the 2nd time we have tried 2 contact u...</td>\n",
       "    </tr>\n",
       "    <tr>\n",
       "      <th>5568</th>\n",
       "      <td>ham</td>\n",
       "      <td>Will Ì_ b going to esplanade fr home?</td>\n",
       "    </tr>\n",
       "    <tr>\n",
       "      <th>5569</th>\n",
       "      <td>ham</td>\n",
       "      <td>Pity, * was in mood for that. So...any other s...</td>\n",
       "    </tr>\n",
       "    <tr>\n",
       "      <th>5570</th>\n",
       "      <td>ham</td>\n",
       "      <td>The guy did some bitching but I acted like i'd...</td>\n",
       "    </tr>\n",
       "    <tr>\n",
       "      <th>5571</th>\n",
       "      <td>ham</td>\n",
       "      <td>Rofl. Its true to its name</td>\n",
       "    </tr>\n",
       "  </tbody>\n",
       "</table>\n",
       "<p>5572 rows × 2 columns</p>\n",
       "</div>"
      ],
      "text/plain": [
       "        v1                                                 v2\n",
       "0      ham  Go until jurong point, crazy.. Available only ...\n",
       "1      ham                      Ok lar... Joking wif u oni...\n",
       "2     spam  Free entry in 2 a wkly comp to win FA Cup fina...\n",
       "3      ham  U dun say so early hor... U c already then say...\n",
       "4      ham  Nah I don't think he goes to usf, he lives aro...\n",
       "...    ...                                                ...\n",
       "5567  spam  This is the 2nd time we have tried 2 contact u...\n",
       "5568   ham              Will Ì_ b going to esplanade fr home?\n",
       "5569   ham  Pity, * was in mood for that. So...any other s...\n",
       "5570   ham  The guy did some bitching but I acted like i'd...\n",
       "5571   ham                         Rofl. Its true to its name\n",
       "\n",
       "[5572 rows x 2 columns]"
      ]
     },
     "execution_count": 56,
     "metadata": {},
     "output_type": "execute_result"
    }
   ],
   "source": [
    "df=df[['v1','v2']]\n",
    "df"
   ]
  },
  {
   "cell_type": "code",
   "execution_count": 57,
   "id": "bb33d91f",
   "metadata": {},
   "outputs": [
    {
     "data": {
      "image/png": "[encoded data removed]",
      "text/plain": [
       "<Figure size 432x288 with 1 Axes>"
      ]
     },
     "metadata": {
      "needs_background": "light"
     },
     "output_type": "display_data"
    }
   ],
   "source": [
    "sns.countplot(x=df['v1'])\n",
    "plt.show()"
   ]
  },
  {
   "cell_type": "code",
   "execution_count": 58,
   "id": "3c6295fa",
   "metadata": {},
   "outputs": [
    {
     "data": {
      "text/plain": [
       "((5572, 2),\n",
       " v1       2\n",
       " v2    5169\n",
       " dtype: int64)"
      ]
     },
     "execution_count": 58,
     "metadata": {},
     "output_type": "execute_result"
    }
   ],
   "source": [
    "df.shape,df.nunique()"
   ]
  },
  {
   "cell_type": "code",
   "execution_count": 59,
   "id": "fb51c8be",
   "metadata": {},
   "outputs": [
    {
     "data": {
      "text/html": [
       "<div>\n",
       "<style scoped>\n",
       "    .dataframe tbody tr th:only-of-type {\n",
       "        vertical-align: middle;\n",
       "    }\n",
       "\n",
       "    .dataframe tbody tr th {\n",
       "        vertical-align: top;\n",
       "    }\n",
       "\n",
       "    .dataframe thead th {\n",
       "        text-align: right;\n",
       "    }\n",
       "</style>\n",
       "<table border=\"1\" class=\"dataframe\">\n",
       "  <thead>\n",
       "    <tr style=\"text-align: right;\">\n",
       "      <th></th>\n",
       "      <th>v2</th>\n",
       "    </tr>\n",
       "    <tr>\n",
       "      <th>v1</th>\n",
       "      <th></th>\n",
       "    </tr>\n",
       "  </thead>\n",
       "  <tbody>\n",
       "    <tr>\n",
       "      <th>ham</th>\n",
       "      <td>4825</td>\n",
       "    </tr>\n",
       "    <tr>\n",
       "      <th>spam</th>\n",
       "      <td>747</td>\n",
       "    </tr>\n",
       "  </tbody>\n",
       "</table>\n",
       "</div>"
      ],
      "text/plain": [
       "        v2\n",
       "v1        \n",
       "ham   4825\n",
       "spam   747"
      ]
     },
     "execution_count": 59,
     "metadata": {},
     "output_type": "execute_result"
    }
   ],
   "source": [
    "df.groupby('v1').count()"
   ]
  },
  {
   "cell_type": "code",
   "execution_count": 60,
   "id": "2f5bcbbb",
   "metadata": {},
   "outputs": [
    {
     "data": {
      "text/html": [
       "<div>\n",
       "<style scoped>\n",
       "    .dataframe tbody tr th:only-of-type {\n",
       "        vertical-align: middle;\n",
       "    }\n",
       "\n",
       "    .dataframe tbody tr th {\n",
       "        vertical-align: top;\n",
       "    }\n",
       "\n",
       "    .dataframe thead th {\n",
       "        text-align: right;\n",
       "    }\n",
       "</style>\n",
       "<table border=\"1\" class=\"dataframe\">\n",
       "  <thead>\n",
       "    <tr style=\"text-align: right;\">\n",
       "      <th></th>\n",
       "      <th>v1</th>\n",
       "    </tr>\n",
       "    <tr>\n",
       "      <th>v2</th>\n",
       "      <th></th>\n",
       "    </tr>\n",
       "  </thead>\n",
       "  <tbody>\n",
       "    <tr>\n",
       "      <th>&amp;lt;#&amp;gt;  in mca. But not conform.</th>\n",
       "      <td>1</td>\n",
       "    </tr>\n",
       "    <tr>\n",
       "      <th>&amp;lt;#&amp;gt;  mins but i had to stop somewhere first.</th>\n",
       "      <td>1</td>\n",
       "    </tr>\n",
       "    <tr>\n",
       "      <th>&amp;lt;DECIMAL&amp;gt; m but its not a common car here so its better to buy from china or asia. Or if i find it less expensive. I.ll holla</th>\n",
       "      <td>1</td>\n",
       "    </tr>\n",
       "    <tr>\n",
       "      <th>and  picking them up from various points</th>\n",
       "      <td>1</td>\n",
       "    </tr>\n",
       "    <tr>\n",
       "      <th>came to look at the flat, seems ok, in his 50s? * Is away alot wiv work. Got woman coming at 6.30 too.</th>\n",
       "      <td>1</td>\n",
       "    </tr>\n",
       "    <tr>\n",
       "      <th>...</th>\n",
       "      <td>...</td>\n",
       "    </tr>\n",
       "    <tr>\n",
       "      <th>ÌÏ still got lessons?  ÌÏ in sch?</th>\n",
       "      <td>1</td>\n",
       "    </tr>\n",
       "    <tr>\n",
       "      <th>ÌÏ takin linear algebra today?</th>\n",
       "      <td>1</td>\n",
       "    </tr>\n",
       "    <tr>\n",
       "      <th>ÌÏ thk of wat to eat tonight.</th>\n",
       "      <td>1</td>\n",
       "    </tr>\n",
       "    <tr>\n",
       "      <th>ÌÏ v ma fan...</th>\n",
       "      <td>1</td>\n",
       "    </tr>\n",
       "    <tr>\n",
       "      <th>ÌÏ wait 4 me in sch i finish ard 5..</th>\n",
       "      <td>1</td>\n",
       "    </tr>\n",
       "  </tbody>\n",
       "</table>\n",
       "<p>5169 rows × 1 columns</p>\n",
       "</div>"
      ],
      "text/plain": [
       "                                                    v1\n",
       "v2                                                    \n",
       " &lt;#&gt;  in mca. But not conform.                 1\n",
       " &lt;#&gt;  mins but i had to stop somewhere fi...   1\n",
       " &lt;DECIMAL&gt; m but its not a common car her...   1\n",
       " and  picking them up from various points            1\n",
       " came to look at the flat, seems ok, in his 50s...   1\n",
       "...                                                 ..\n",
       "ÌÏ still got lessons?  ÌÏ in sch?                    1\n",
       "ÌÏ takin linear algebra today?                       1\n",
       "ÌÏ thk of wat to eat tonight.                        1\n",
       "ÌÏ v ma fan...                                       1\n",
       "ÌÏ wait 4 me in sch i finish ard 5..                 1\n",
       "\n",
       "[5169 rows x 1 columns]"
      ]
     },
     "execution_count": 60,
     "metadata": {},
     "output_type": "execute_result"
    }
   ],
   "source": [
    "df.groupby('v2').count()"
   ]
  },
  {
   "cell_type": "code",
   "execution_count": 61,
   "id": "1108040e",
   "metadata": {},
   "outputs": [
    {
     "data": {
      "text/plain": [
       "Sorry, I'll call later                                                                                                                                                 30\n",
       "I cant pick the phone right now. Pls send a message                                                                                                                    12\n",
       "Ok...                                                                                                                                                                  10\n",
       "7 wonders in My WORLD 7th You 6th Ur style 5th Ur smile 4th Ur Personality 3rd Ur Nature 2nd Ur SMS and 1st \\Ur Lovely Friendship\\\"... good morning dear\"               4\n",
       "Say this slowly.? GOD,I LOVE YOU &amp; I NEED YOU,CLEAN MY HEART WITH YOUR BLOOD.Send this to Ten special people &amp; u c miracle tomorrow, do it,pls,pls do it...     4\n",
       "                                                                                                                                                                       ..\n",
       "I gotta collect da car at 6 lei.                                                                                                                                        1\n",
       "No. On the way home. So if not for the long dry spell the season would have been over                                                                                   1\n",
       "Urgent! Please call 09061743811 from landline. Your ABTA complimentary 4* Tenerife Holiday or å£5000 cash await collection SAE T&Cs Box 326 CW25WX 150ppm               1\n",
       "Dear 0776xxxxxxx U've been invited to XCHAT. This is our final attempt to contact u! Txt CHAT to 86688 150p/MsgrcvdHG/Suite342/2Lands/Row/W1J6HL LDN 18yrs              1\n",
       "Rofl. Its true to its name                                                                                                                                              1\n",
       "Name: v2, Length: 5169, dtype: int64"
      ]
     },
     "execution_count": 61,
     "metadata": {},
     "output_type": "execute_result"
    }
   ],
   "source": [
    "df['v2'].value_counts()"
   ]
  },
  {
   "cell_type": "code",
   "execution_count": 62,
   "id": "1c855ca0",
   "metadata": {},
   "outputs": [
    {
     "data": {
      "text/plain": [
       "ham     4825\n",
       "spam     747\n",
       "Name: v1, dtype: int64"
      ]
     },
     "execution_count": 62,
     "metadata": {},
     "output_type": "execute_result"
    }
   ],
   "source": [
    "df['v1'].value_counts()"
   ]
  },
  {
   "cell_type": "code",
   "execution_count": null,
   "id": "55c91a73",
   "metadata": {},
   "outputs": [],
   "source": []
  },
  {
   "cell_type": "code",
   "execution_count": 63,
   "id": "2238512d",
   "metadata": {},
   "outputs": [
    {
     "name": "stderr",
     "output_type": "stream",
     "text": [
      "C:\\Users\\omkan\\AppData\\Local\\Temp/ipykernel_876/3145744243.py:4: SettingWithCopyWarning: \n",
      "A value is trying to be set on a copy of a slice from a DataFrame.\n",
      "Try using .loc[row_indexer,col_indexer] = value instead\n",
      "\n",
      "See the caveats in the documentation: https://pandas.pydata.org/pandas-docs/stable/user_guide/indexing.html#returning-a-view-versus-a-copy\n",
      "  df['v1']=lb.fit_transform(df['v1'])\n"
     ]
    },
    {
     "data": {
      "text/plain": [
       "0    0\n",
       "1    0\n",
       "2    1\n",
       "3    0\n",
       "4    0\n",
       "Name: v1, dtype: int32"
      ]
     },
     "execution_count": 63,
     "metadata": {},
     "output_type": "execute_result"
    }
   ],
   "source": [
    "# method 1\n",
    "from sklearn.preprocessing import LabelEncoder\n",
    "lb=LabelEncoder()\n",
    "df['v1']=lb.fit_transform(df['v1'])\n",
    "df['v1'][:5]"
   ]
  },
  {
   "cell_type": "code",
   "execution_count": 64,
   "id": "44420a32",
   "metadata": {},
   "outputs": [
    {
     "name": "stderr",
     "output_type": "stream",
     "text": [
      "C:\\Users\\omkan\\AppData\\Local\\Temp/ipykernel_876/4050133740.py:2: SettingWithCopyWarning: \n",
      "A value is trying to be set on a copy of a slice from a DataFrame.\n",
      "Try using .loc[row_indexer,col_indexer] = value instead\n",
      "\n",
      "See the caveats in the documentation: https://pandas.pydata.org/pandas-docs/stable/user_guide/indexing.html#returning-a-view-versus-a-copy\n",
      "  df['v1']=df['v1'].replace({0:0,1:1})\n"
     ]
    },
    {
     "data": {
      "text/plain": [
       "0    0\n",
       "1    0\n",
       "2    1\n",
       "3    0\n",
       "4    0\n",
       "Name: v1, dtype: int64"
      ]
     },
     "execution_count": 64,
     "metadata": {},
     "output_type": "execute_result"
    }
   ],
   "source": [
    "# method - 2\n",
    "df['v1']=df['v1'].replace({0:0,1:1})\n",
    "df['v1'][:5]"
   ]
  },
  {
   "cell_type": "code",
   "execution_count": 65,
   "id": "6c90ba4e",
   "metadata": {},
   "outputs": [
    {
     "data": {
      "text/plain": [
       "\"Free entry in 2 a wkly comp to win FA Cup final tkts 21st May 2005. Text FA to 87121 to receive entry question(std txt rate)T&C's apply 08452810075over18's\""
      ]
     },
     "execution_count": 65,
     "metadata": {},
     "output_type": "execute_result"
    }
   ],
   "source": [
    "df['v2'][2]"
   ]
  },
  {
   "cell_type": "markdown",
   "id": "518df960",
   "metadata": {},
   "source": [
    "https://www.geeksforgeeks.org/removing-stop-words-nltk-python/"
   ]
  },
  {
   "cell_type": "raw",
   "id": "f91b6aef",
   "metadata": {},
   "source": [
    "Removing Punctuations\n",
    "important regex petterns\n",
    "'^[a-z0-9]+[\\._]?[ a-z0-9]+[@]\\w+[. ]\\w{2,3}$'\n",
    "email, url, dob, mobile no. , zip code, wepsite, custem string"
   ]
  },
  {
   "cell_type": "code",
   "execution_count": 66,
   "id": "33edcc77",
   "metadata": {},
   "outputs": [],
   "source": [
    "from nltk.tokenize import RegexpTokenizer\n",
    "# tokenizer remove unwanted elements from out data like symbols and numbers, special charactor\n",
    "tn = RegexpTokenizer(r'[a-zA-Z0-9]')"
   ]
  },
  {
   "cell_type": "code",
   "execution_count": 67,
   "id": "b5284232",
   "metadata": {},
   "outputs": [],
   "source": [
    "import re"
   ]
  },
  {
   "cell_type": "code",
   "execution_count": 68,
   "id": "d6fb0489",
   "metadata": {},
   "outputs": [
    {
     "name": "stdout",
     "output_type": "stream",
     "text": [
      "Nah I don't think he goes to usf, he lives around here though\n"
     ]
    },
    {
     "data": {
      "text/plain": [
       "'nah i don t think he goes to usf  he lives around here though'"
      ]
     },
     "execution_count": 68,
     "metadata": {},
     "output_type": "execute_result"
    }
   ],
   "source": [
    "# example -\n",
    "first_msg=df['v2'][4]\n",
    "print(first_msg)\n",
    "msg=re.sub('[^a-zA-Z]',' ',first_msg)\n",
    "msg=msg.lower()\n",
    "msg"
   ]
  },
  {
   "cell_type": "code",
   "execution_count": 69,
   "id": "9f5d12fa",
   "metadata": {},
   "outputs": [
    {
     "name": "stdout",
     "output_type": "stream",
     "text": [
      "['nah', 'i', 'don', 't', 'think', 'he', 'goes', 'to', 'usf', 'he', 'lives', 'around', 'here', 'though']\n"
     ]
    },
    {
     "name": "stderr",
     "output_type": "stream",
     "text": [
      "[nltk_data] Downloading package stopwords to\n",
      "[nltk_data]     C:\\Users\\omkan\\AppData\\Roaming\\nltk_data...\n",
      "[nltk_data]   Package stopwords is already up-to-date!\n"
     ]
    }
   ],
   "source": [
    "# removing stop words\n",
    "import nltk\n",
    "nltk.download('stopwords')\n",
    "from nltk.corpus import stopwords\n",
    "#eg.\n",
    "msg = msg.split()\n",
    "print(msg)"
   ]
  },
  {
   "cell_type": "code",
   "execution_count": 70,
   "id": "fe83e182",
   "metadata": {},
   "outputs": [
    {
     "data": {
      "text/plain": [
       "'nah i don t think he go to usf he life around here though'"
      ]
     },
     "execution_count": 70,
     "metadata": {},
     "output_type": "execute_result"
    }
   ],
   "source": [
    "# Lemmantization\n",
    "import nltk as nlp\n",
    "lemma= nlp.WordNetLemmatizer()\n",
    "#eg.\n",
    "msg=[lemma.lemmatize(word) for word in msg]\n",
    "msg= \" \".join(msg)\n",
    "msg"
   ]
  },
  {
   "cell_type": "code",
   "execution_count": 71,
   "id": "165e4ff2",
   "metadata": {},
   "outputs": [
    {
     "name": "stdout",
     "output_type": "stream",
     "text": [
      "!\"#$%&'()*+,-./:;<=>?@[\\]^_`{|}~\n"
     ]
    }
   ],
   "source": [
    "# string Libracy\n",
    "import string \n",
    "print(string.punctuation)"
   ]
  },
  {
   "cell_type": "code",
   "execution_count": 72,
   "id": "3c368e2f",
   "metadata": {},
   "outputs": [
    {
     "data": {
      "text/plain": [
       "{88: 97, 89: 98, 90: 99}"
      ]
     },
     "execution_count": 72,
     "metadata": {},
     "output_type": "execute_result"
    }
   ],
   "source": [
    "str.maketrans('XYZ','abc')"
   ]
  },
  {
   "cell_type": "code",
   "execution_count": 73,
   "id": "1d2af66d",
   "metadata": {},
   "outputs": [],
   "source": [
    "# Removing Punctuation\n",
    "def remove_punc(text):\n",
    "    translator = str.maketrans('','',string.punctuation)\n",
    "    # return the text stripped of punctuation marks\n",
    "    return text.translate(translator)"
   ]
  },
  {
   "cell_type": "code",
   "execution_count": 74,
   "id": "44098478",
   "metadata": {},
   "outputs": [
    {
     "name": "stderr",
     "output_type": "stream",
     "text": [
      "C:\\Users\\omkan\\AppData\\Local\\Temp/ipykernel_876/4044612299.py:1: SettingWithCopyWarning: \n",
      "A value is trying to be set on a copy of a slice from a DataFrame.\n",
      "Try using .loc[row_indexer,col_indexer] = value instead\n",
      "\n",
      "See the caveats in the documentation: https://pandas.pydata.org/pandas-docs/stable/user_guide/indexing.html#returning-a-view-versus-a-copy\n",
      "  df['v2']=df['v2'].apply(remove_punc)\n"
     ]
    },
    {
     "data": {
      "text/html": [
       "<div>\n",
       "<style scoped>\n",
       "    .dataframe tbody tr th:only-of-type {\n",
       "        vertical-align: middle;\n",
       "    }\n",
       "\n",
       "    .dataframe tbody tr th {\n",
       "        vertical-align: top;\n",
       "    }\n",
       "\n",
       "    .dataframe thead th {\n",
       "        text-align: right;\n",
       "    }\n",
       "</style>\n",
       "<table border=\"1\" class=\"dataframe\">\n",
       "  <thead>\n",
       "    <tr style=\"text-align: right;\">\n",
       "      <th></th>\n",
       "      <th>v1</th>\n",
       "      <th>v2</th>\n",
       "    </tr>\n",
       "  </thead>\n",
       "  <tbody>\n",
       "    <tr>\n",
       "      <th>0</th>\n",
       "      <td>0</td>\n",
       "      <td>Go until jurong point crazy Available only in ...</td>\n",
       "    </tr>\n",
       "    <tr>\n",
       "      <th>1</th>\n",
       "      <td>0</td>\n",
       "      <td>Ok lar Joking wif u oni</td>\n",
       "    </tr>\n",
       "    <tr>\n",
       "      <th>2</th>\n",
       "      <td>1</td>\n",
       "      <td>Free entry in 2 a wkly comp to win FA Cup fina...</td>\n",
       "    </tr>\n",
       "    <tr>\n",
       "      <th>3</th>\n",
       "      <td>0</td>\n",
       "      <td>U dun say so early hor U c already then say</td>\n",
       "    </tr>\n",
       "    <tr>\n",
       "      <th>4</th>\n",
       "      <td>0</td>\n",
       "      <td>Nah I dont think he goes to usf he lives aroun...</td>\n",
       "    </tr>\n",
       "    <tr>\n",
       "      <th>5</th>\n",
       "      <td>1</td>\n",
       "      <td>FreeMsg Hey there darling its been 3 weeks now...</td>\n",
       "    </tr>\n",
       "    <tr>\n",
       "      <th>6</th>\n",
       "      <td>0</td>\n",
       "      <td>Even my brother is not like to speak with me T...</td>\n",
       "    </tr>\n",
       "    <tr>\n",
       "      <th>7</th>\n",
       "      <td>0</td>\n",
       "      <td>As per your request Melle Melle Oru Minnaminun...</td>\n",
       "    </tr>\n",
       "    <tr>\n",
       "      <th>8</th>\n",
       "      <td>1</td>\n",
       "      <td>WINNER As a valued network customer you have b...</td>\n",
       "    </tr>\n",
       "    <tr>\n",
       "      <th>9</th>\n",
       "      <td>1</td>\n",
       "      <td>Had your mobile 11 months or more U R entitled...</td>\n",
       "    </tr>\n",
       "  </tbody>\n",
       "</table>\n",
       "</div>"
      ],
      "text/plain": [
       "   v1                                                 v2\n",
       "0   0  Go until jurong point crazy Available only in ...\n",
       "1   0                            Ok lar Joking wif u oni\n",
       "2   1  Free entry in 2 a wkly comp to win FA Cup fina...\n",
       "3   0        U dun say so early hor U c already then say\n",
       "4   0  Nah I dont think he goes to usf he lives aroun...\n",
       "5   1  FreeMsg Hey there darling its been 3 weeks now...\n",
       "6   0  Even my brother is not like to speak with me T...\n",
       "7   0  As per your request Melle Melle Oru Minnaminun...\n",
       "8   1  WINNER As a valued network customer you have b...\n",
       "9   1  Had your mobile 11 months or more U R entitled..."
      ]
     },
     "execution_count": 74,
     "metadata": {},
     "output_type": "execute_result"
    }
   ],
   "source": [
    "df['v2']=df['v2'].apply(remove_punc)\n",
    "df.head(10)"
   ]
  },
  {
   "cell_type": "code",
   "execution_count": 75,
   "id": "5bd61441",
   "metadata": {},
   "outputs": [
    {
     "name": "stdout",
     "output_type": "stream",
     "text": [
      "{'doesn', 'our', 'won', 'isn', 'from', \"won't\", 'was', 'hadn', 'because', 'down', 'wouldn', \"you're\", 'why', 've', 'own', \"shouldn't\", 'the', \"you'll\", 'above', 'my', 'if', \"didn't\", 'had', 'few', \"hasn't\", 't', 'same', \"doesn't\", 'yourselves', 'who', 'not', 're', 'we', 'm', 'his', 'haven', 'mightn', 'such', \"mightn't\", 'don', 'which', 'again', 'is', 'doing', 'after', 'just', 'until', 'through', 'hasn', 'no', 'only', 'for', 'he', 'weren', 'nor', 'at', 'to', \"aren't\", 'with', 'those', 'when', 'd', 'y', \"you've\", 'your', 'wasn', 'they', 'these', 'some', 's', \"shan't\", 'whom', 'very', \"you'd\", 'a', 'into', 'didn', \"wasn't\", 'i', 'its', \"weren't\", \"should've\", 'does', 'this', 'me', 'under', 'being', 'them', 'theirs', 'once', 'during', 'll', \"couldn't\", 'up', 'out', 'off', 'it', 'hers', 'so', 'been', 'has', 'will', 'ours', 'of', 'before', 'herself', \"wouldn't\", \"mustn't\", 'all', 'have', \"isn't\", 'an', 'were', 'more', 'mustn', 'both', \"hadn't\", 'am', 'too', 'himself', 'be', 'and', 'ain', \"that'll\", 'can', \"don't\", 'or', 'over', 'there', 'that', \"it's\", 'ourselves', 'ma', 'yourself', \"needn't\", 'while', 'needn', 'in', 'now', 'you', 'him', 'yours', 'are', 'where', 'any', 'against', 'between', 'aren', 'couldn', 'do', \"she's\", 'how', 'then', 'each', 'itself', 'should', 'by', 'other', 'their', 'what', 'but', 'her', 'further', 'shouldn', 'than', 'as', \"haven't\", 'o', 'below', 'about', 'themselves', 'on', 'having', 'most', 'did', 'she', 'myself', 'here', 'shan'}\n"
     ]
    }
   ],
   "source": [
    "sw=set(stopwords.words('english'))\n",
    "print(sw)"
   ]
  },
  {
   "cell_type": "code",
   "execution_count": 76,
   "id": "9292fc30",
   "metadata": {},
   "outputs": [],
   "source": [
    "msg_list=[]\n",
    "for i in df['v2']:\n",
    "    txt=re.sub('[^a-zA-Z]',' ',i)             # remove punctuation\n",
    "    txt=txt.lower()                           # convert to lower\n",
    "    txt=nltk.word_tokenize(txt)               # tokenize the words\n",
    "    txt=[i for i in txt if not i in sw]       # stop words removal\n",
    "    lemma = nlp.WordNetLemmatizer()\n",
    "    txt=[lemma.lemmatize(word) for word in txt]\n",
    "    txt= ' '.join(txt)\n",
    "    msg_list.append(txt)"
   ]
  },
  {
   "cell_type": "code",
   "execution_count": 77,
   "id": "0bc350d5",
   "metadata": {},
   "outputs": [
    {
     "data": {
      "text/plain": [
       "['go jurong point crazy available bugis n great world la e buffet cine got amore wat',\n",
       " 'ok lar joking wif u oni',\n",
       " 'free entry wkly comp win fa cup final tkts st may text fa receive entry questionstd txt ratetcs apply',\n",
       " 'u dun say early hor u c already say',\n",
       " 'nah dont think go usf life around though',\n",
       " 'freemsg hey darling week word back id like fun still tb ok xxx std chgs send rcv',\n",
       " 'even brother like speak treat like aid patent',\n",
       " 'per request melle melle oru minnaminunginte nurungu vettam set callertune caller press copy friend callertune',\n",
       " 'winner valued network customer selected receivea prize reward claim call claim code kl valid hour',\n",
       " 'mobile month u r entitled update latest colour mobile camera free call mobile update co free',\n",
       " 'im gon na home soon dont want talk stuff anymore tonight k ive cried enough today',\n",
       " 'six chance win cash pound txt csh send cost pday day tsandcs apply reply hl info',\n",
       " 'urgent week free membership prize jackpot txt word claim tc wwwdbuknet lccltd pobox ldnw rw',\n",
       " 'ive searching right word thank breather promise wont take help granted fulfil promise wonderful blessing time',\n",
       " 'date sunday',\n",
       " 'xxxmobilemovieclub use credit click wap link next txt message click httpwap xxxmobilemovieclubcomnqjkgighjjgcbl',\n",
       " 'oh kim watching',\n",
       " 'eh u remember spell name yes v naughty make v wet',\n",
       " 'fine way u feel way gota b',\n",
       " 'england v macedonia dont miss goalsteam news txt ur national team eg england trywales scotland txt poboxox w wq',\n",
       " 'seriously spell name',\n",
       " 'going try month ha ha joking',\n",
       " 'pay first lar da stock comin',\n",
       " 'aft finish lunch go str lor ard smth lor u finish ur lunch already',\n",
       " 'ffffffffff alright way meet sooner',\n",
       " 'forced eat slice im really hungry tho suck mark getting worried know im sick turn pizza lol',\n",
       " 'lol always convincing',\n",
       " 'catch bus frying egg make tea eating mom left dinner feel love',\n",
       " 'im back amp packing car ill let know there room',\n",
       " 'ahhh work vaguely remember feel like lol',\n",
       " 'wait thats still clear sure sarcastic thats x doesnt want live u',\n",
       " 'yeah got v apologetic n fallen actin like spoilt child got caught till wont go badly cheer',\n",
       " 'k tell anything',\n",
       " 'fear fainting housework quick cuppa',\n",
       " 'thanks subscription ringtone uk mobile charged month please confirm replying yes reply charged',\n",
       " 'yup ok go home look timing msg xuhui going learn nd may lesson',\n",
       " 'oops ill let know roommate done',\n",
       " 'see letter b car',\n",
       " 'anything lor u decide',\n",
       " 'hello hows saturday go texting see youd decided anything tomo im trying invite anything',\n",
       " 'pls go ahead watt wanted sure great weekend abiola',\n",
       " 'forget tell want need crave love sweet arabian steed mmmmmm yummy',\n",
       " 'rodger burn msg tried call reply sm free nokia mobile free camcorder please call delivery tomorrow',\n",
       " 'seeing',\n",
       " 'great hope like man well endowed ltgt inch',\n",
       " 'callsmessagesmissed call',\n",
       " 'didnt get hep b immunisation nigeria',\n",
       " 'fair enough anything going',\n",
       " 'yeah hopefully tyler cant could maybe ask around bit',\n",
       " 'u dont know stubborn didnt even want go hospital kept telling mark im weak sucker hospital weak sucker',\n",
       " 'thinked first time saw class',\n",
       " 'gram usually run like ltgt half eighth smarter though get almost whole second gram ltgt',\n",
       " 'k fyi x ride early tomorrow morning he crashing place tonight',\n",
       " 'wow never realized embarassed accomodations thought liked since best could always seemed happy cave im sorry didnt dont give im sorry offered im sorry room embarassing',\n",
       " 'sm ac sptv new jersey devil detroit red wing play ice hockey correct incorrect end reply end sptv',\n",
       " 'know mallika sherawat yesterday find lturlgt',\n",
       " 'congrats year special cinema pas call c suprman v matrix starwars etc free bx ip pm dont miss',\n",
       " 'sorry ill call later meeting',\n",
       " 'tell reached',\n",
       " 'yesgauti sehwag odi series',\n",
       " 'gon na pick burger way home cant even move pain killing',\n",
       " 'ha ha ha good joke girl situation seeker',\n",
       " 'part checking iq',\n",
       " 'sorry roommate took forever ok come',\n",
       " 'ok lar double check wif da hair dresser already said wun cut v short said cut look nice',\n",
       " 'valued customer pleased advise following recent review mob awarded bonus prize call',\n",
       " 'today song dedicated day song u dedicate send ur valuable frnds first rply',\n",
       " 'urgent ur awarded complimentary trip eurodisinc trav acoentry claim txt dis morefrmmob shracomorsglsuplt l aj',\n",
       " 'hear new divorce barbie come ken stuff',\n",
       " 'plane give month end',\n",
       " 'wah lucky man save money hee',\n",
       " 'finished class',\n",
       " 'hi babe im home wan na something xx',\n",
       " 'kkwhere youhow performed',\n",
       " 'u call',\n",
       " 'waiting machan call free',\n",
       " 'thats cool gentleman treat dignity respect',\n",
       " 'like people much shy pa',\n",
       " 'operate ltgt',\n",
       " 'still looking job much ta earn',\n",
       " 'sorry ill call later',\n",
       " 'k call ah',\n",
       " 'ok way home hi hi',\n",
       " 'place man',\n",
       " 'yup next stop',\n",
       " 'call later dont network urgnt sm',\n",
       " 'real u getting yo need ticket one jacket im done already used multis',\n",
       " 'yes started send request make pain came back im back bed double coin factory got ta cash nitros',\n",
       " 'im really still tonight babe',\n",
       " 'ela kanoil download come wen ur free',\n",
       " 'yeah stand close tho catch something',\n",
       " 'sorry pain ok meet another night spent late afternoon casualty mean havent done stuff moro includes time sheet sorry',\n",
       " 'smile pleasure smile pain smile trouble pours like rain smile sum hurt u smile becoz someone still love see u smiling',\n",
       " 'please call customer service representative pm guaranteed cash prize',\n",
       " 'havent planning buy later check already lido got show e afternoon u finish work already',\n",
       " 'free ringtone waiting collected simply text password mix verify get usher britney fml',\n",
       " 'watching telugu moviewat abt u',\n",
       " 'see finish load loan pay',\n",
       " 'hi wk ok hols yes bit run forgot hairdresser appointment four need get home n shower beforehand cause prob u ham',\n",
       " 'please dont text anymore nothing else say',\n",
       " 'okay name ur price long legal wen pick u ave x am xx',\n",
       " 'im still looking car buy gone driving test yet',\n",
       " 'per request melle melle oru minnaminunginte nurungu vettam set callertune caller press copy friend callertune',\n",
       " 'wow youre right didnt mean guess gave boston men changed search location nyc something changed cuz signin page still say boston',\n",
       " 'umma life vava umma love lot dear',\n",
       " 'thanks lot wish birthday thanks making birthday truly memorable',\n",
       " 'aight ill hit get cash',\n",
       " 'would ip address test considering computer isnt minecraft server',\n",
       " 'know grumpy old people mom like better lying always one play joke',\n",
       " 'dont worry guess he busy',\n",
       " 'plural noun research',\n",
       " 'going dinnermsg',\n",
       " 'im ok wif co like try new thing scared u dun like mah co u said loud',\n",
       " 'gent trying contact last weekend draw show prize guaranteed call claim code k valid hr ppm',\n",
       " 'wa ur openin sentence formal anyway im fine juz tt im eatin much n puttin weighthaha anythin special happened',\n",
       " 'entered cabin pa said happy bday bos felt special askd lunch lunch invited apartment went',\n",
       " 'winner u specially selected receive holiday flight inc speak live operator claim pmin',\n",
       " 'goodo yes must speak friday eggpotato ratio tortilla needed',\n",
       " 'hmmmy uncle informed he paying school directly pls buy food',\n",
       " 'private account statement show unredeemed bonus point claim call identifier code expires',\n",
       " 'urgent mobile awarded bonus caller prize final try contact u call landline box wr c ppm',\n",
       " 'new address applespairsall malarky',\n",
       " 'today voda number ending selected receive award match please call quoting claim code standard rate app',\n",
       " 'going sao mu today done',\n",
       " 'predict wat time finish buying',\n",
       " 'good stuff',\n",
       " 'knowyetunde hasnt sent money yet sent text bother sending dont involve anything shouldnt imposed anything first place apologise',\n",
       " 'room',\n",
       " 'hey girl r u hope u r well del r bak long time c give call sum time lucyxx',\n",
       " 'kkhow much cost',\n",
       " 'im home',\n",
       " 'dear call tmorrowpls accomodate',\n",
       " 'first answer question',\n",
       " 'sunshine quiz wkly q win top sony dvd player u know country algarve txt ansr sptyrone',\n",
       " 'want get laid tonight want real dogging location sent direct ur mob join uk largest dogging network bt txting gravel nt ec pmsg p',\n",
       " 'haf msn yijuehotmailcom',\n",
       " 'call meet',\n",
       " 'check room befor activity',\n",
       " 'youll rcv msg chat svc free hardcore service text go u get nothing u must age verify yr network try',\n",
       " 'got c lazy type forgot lect saw pouch like v nice',\n",
       " 'k text youre way',\n",
       " 'sir waiting mail',\n",
       " 'swt thought nver get tired little thing lovable person cozsomtimes little thing occupy biggest part heart gud ni',\n",
       " 'know pls open back',\n",
       " 'yes see ya dot',\n",
       " 'whats staff name taking class u',\n",
       " 'freemsg havent replied text im randy sexy female live local luv hear u netcollex ltd p per msg reply stop end',\n",
       " 'ummmawill call check inour life begin qatar pls pray hard',\n",
       " 'ki deleted contact',\n",
       " 'sindu got job birla soft',\n",
       " 'wine flowing im nevering',\n",
       " 'yup thk cine better co need go plaza mah',\n",
       " 'ok ur typical reply',\n",
       " 'per request melle melle oru minnaminunginte nurungu vettam set callertune caller press copy friend callertune',\n",
       " 'everywhere dirt floor window even shirt sometimes open mouth come flowing dream world without half chore time joy lot tv show ill see guess like thing must exist like rain hail mist time done become one',\n",
       " 'aaooooright work',\n",
       " 'im leaving house',\n",
       " 'hello love get interview today happy good boy think meare missing',\n",
       " 'customer service annoncement new year delivery waiting please call arrange delivery',\n",
       " 'winner u specially selected receive cash holiday flight inc speak live operator claim',\n",
       " 'keep safe need miss already envy everyone see real life',\n",
       " 'new car house parentsi new job hand',\n",
       " 'im love im excited day spend make happy',\n",
       " 'pls stop bootydelious f inviting friend reply yes see wwwsmsacubootydelious stop send stop frnd',\n",
       " 'bangbabes ur order way u receive service msg download ur content u goto wap bangb tv ur mobile internetservice menu',\n",
       " 'place ur point e culture module already',\n",
       " 'urgent trying contact last weekend draw show prize guaranteed call claim code valid hr',\n",
       " 'hi frnd best way avoid missunderstding wit beloved one',\n",
       " 'great escape fancy bridge need lager see tomo',\n",
       " 'yes completely formclark also utter waste',\n",
       " 'sir need axis bank account bank address',\n",
       " 'hmmm thk sure got time hop ard ya go free abt muz call u discus liao',\n",
       " 'time coming later',\n",
       " 'bloody hell cant believe forgot surname mr ill give u clue spanish begin',\n",
       " 'well im gon na finish bath goodfine night',\n",
       " 'let know youve got money carlos make call',\n",
       " 'u still going mall',\n",
       " 'turn friend staying whole show wont back til ltgt feel free go ahead smoke ltgt worth',\n",
       " 'text doesnt reply let know log',\n",
       " 'hi spoke maneesha v wed like know satisfied experience reply toll free yes',\n",
       " 'lifted hope offer money need especially end month approach hurt studying anyways gr weekend',\n",
       " 'lol u trust',\n",
       " 'ok gentleman treat dignity respect',\n",
       " 'guy close',\n",
       " 'going nothing greatbye',\n",
       " 'hello handsome finding job lazy working towards getting back net mummy wheres boytoy miss',\n",
       " 'haha awesome minute',\n",
       " 'please call customer service representative freephone pm guaranteed cash prize',\n",
       " 'got xmas radio time get',\n",
       " 'jus reached home go bathe first si using net tell u finish k',\n",
       " 'unique enough find th august wwwareyouuniquecouk',\n",
       " 'im sorry ive joined league people dont keep touch mean great deal friend time even great personal cost great week',\n",
       " 'hi finally completed course',\n",
       " 'stop however suggest stay someone able give or every stool',\n",
       " 'hope youve settled new school year wishin gr day',\n",
       " 'gud mrng dear hav nice day',\n",
       " 'u got person story',\n",
       " 'hamster dead hey tmr meet pm orchard mrt',\n",
       " 'hi kate evening hope see tomorrow bit bloody babyjontet txt back u xxx',\n",
       " 'found enc ltgt',\n",
       " 'sent ltgt buck',\n",
       " 'hello darlin ive finished college txt u finish u love kate xxx',\n",
       " 'account refilled successfully inr ltdecimalgt keralacircle prepaid account balance r ltdecimalgt transaction id kr ltgt',\n",
       " 'goodmorning sleeping ga',\n",
       " 'u call alter ok',\n",
       " 'say like dat dun buy ericsson oso oredi lar',\n",
       " 'entered cabin pa said happy bday bos felt special askd lunch lunch invited apartment went',\n",
       " 'aight yo dat straight dogg',\n",
       " 'please give u connection today ltdecimalgt refund bill',\n",
       " 'shoot big load get ready',\n",
       " 'whats bruv hope great break rewarding semester',\n",
       " 'home always chat',\n",
       " 'kkgoodstudy well',\n",
       " 'yup noe leh',\n",
       " 'sound great home',\n",
       " 'finally match heading towards draw prediction',\n",
       " 'tired havent slept well past night',\n",
       " 'easy ahsen got selected mean good',\n",
       " 'take exam march',\n",
       " 'yeah think use gt atm register sure there anyway help let know sure ready',\n",
       " 'ok prob take ur time',\n",
       " 'o called ubandu run without installing hard diskyou use o copy important file system give repair shop',\n",
       " 'sorry ill call later',\n",
       " 'u say leh course nothing happen lar say v romantic jus bit lor thk e nite scenery nice leh',\n",
       " 'new mobile must go txt nokia collect todayfrom www tcbiz optout gbpmtmsg',\n",
       " 'would really appreciate call need someone talk',\n",
       " 'u meet ur dream partner soon ur career flyng start find free txt horo followed ur star sign e g horo aries',\n",
       " 'hey company elama po mudyadhu',\n",
       " 'life strict teacher bcoz teacher teach lesson amp conduct exam life first conduct exam amp teach lesson happy morning',\n",
       " 'dear good morning',\n",
       " 'get gandhipuram walk cross cut road right side ltgt street road turn first right',\n",
       " 'dear going rubber place',\n",
       " 'sorry battery died yeah im',\n",
       " 'yeshere tv always available work place',\n",
       " 'text meet someone sexy today u find date even flirt u join p reply name age eg sam msg recdthirtyeight penny',\n",
       " 'printed oh ltgt come upstairs',\n",
       " 'ill little closer like bus stop street',\n",
       " 'youwhen wil reach',\n",
       " 'new theory argument win situation loses person dont argue ur friend kick amp say im always correct',\n",
       " 'u secret admirer looking make contact ufind rreveal think ur specialcall',\n",
       " 'tomarrow final hearing laptop case cant',\n",
       " 'pleassssssseeeeee tel v avent done sportsx',\n",
       " 'okay shining meant signing sound better',\n",
       " 'although told u dat im baig face watch really like e watch u gave co fr u thanx everything dat uve done today im touched',\n",
       " 'u dont remember old commercial',\n",
       " 'late said website didnt dont slipper',\n",
       " 'asked call ok',\n",
       " 'kallis wont bat nd inning',\n",
       " 'didnt work oh ok goodnight ill fix ready time wake dearly missed good night sleep',\n",
       " 'congratulation ur awarded cd voucher gift guaranteed free entry wkly draw txt music tncs wwwldewcom win ppmx age',\n",
       " 'ranjith cal drpd deeraj deepak min hold',\n",
       " 'wen ur lovable bcums angry wid u dnt take seriously coz angry childish n true way showing deep affection care n luv kettoda manda nice day da',\n",
       " 'doinghow',\n",
       " 'ups day also shipping company take wks way usps take week get lag may bribe nipost get stuff',\n",
       " 'im back lem know youre ready',\n",
       " 'dont necessarily expect done get back though im headin',\n",
       " 'mmm yummy babe nice jolt suzy',\n",
       " 'lover need',\n",
       " 'tried contact reply offer video handset anytime network min unlimited text camcorder reply call',\n",
       " 'parked next mini coming today think',\n",
       " 'yup',\n",
       " 'anyway im going shopping co si done yet dun disturb u liao',\n",
       " 'luton ring ur around h',\n",
       " 'hey really horny want chat see naked text hot text charged pm unsubscribe text stop',\n",
       " 'dint come u',\n",
       " 'wana plan trip sometme',\n",
       " 'sure yet still trying get hold',\n",
       " 'ur ringtone service changed free credit go club mobilescom choose content stop txt club stop pwk club po box mk wt',\n",
       " 'evo download flash jealous',\n",
       " 'ringtone club get uk single chart mobile week choose top quality ringtone message free charge',\n",
       " 'come mu sorting narcotic situation',\n",
       " 'night ended another day morning come special way may smile like sunny ray leaf worry blue blue bay',\n",
       " 'hmv bonus special pound genuine hmv voucher answer easy question play send hmv infowww percentrealcom',\n",
       " 'usf guess might well take car',\n",
       " 'objection bf coming',\n",
       " 'thanx',\n",
       " 'tell rob mack gf theater',\n",
       " 'awesome ill see bit',\n",
       " 'sent type food like',\n",
       " 'done handed celebration full swing yet',\n",
       " 'got called tool',\n",
       " 'wen u miss someone',\n",
       " 'ok asked money far',\n",
       " 'okie',\n",
       " 'yeah think usual guy still passed last night get ahold anybody let know ill throw',\n",
       " 'k might come tonight class let early',\n",
       " 'ok',\n",
       " 'hi baby im cruisin girl friend r u give call hour home thats alright fone fone love jenny xxx',\n",
       " 'life mean lot love life love people life world call friend call world ge',\n",
       " 'dearshall mail tonitebusy streetshall update tonitethings looking okvarunnathu edukkukayee raksha ollubut good one real sense',\n",
       " 'hey told name gautham ah',\n",
       " 'haf u found feel stupid da v cam working',\n",
       " 'oops got bit',\n",
       " 'much buzy',\n",
       " 'accidentally deleted message resend please',\n",
       " 'tmobile customer may claim free camera phone upgrade pay go sim card loyalty call offer end thfebtcs apply',\n",
       " 'unless situation go gurl would appropriate',\n",
       " 'hurt tease make cry end life die plz keep one rose grave say stupid miss u nice day bslvyl',\n",
       " 'cant pick phone right pls send message',\n",
       " 'need coffee run tomocant believe time week already',\n",
       " 'awesome remember last time got somebody high first time diesel v',\n",
       " 'shit really shocking scary cant imagine second def night u think somewhere could crash night save taxi',\n",
       " 'oh way food fridge want go meal tonight',\n",
       " 'womdarfull actor',\n",
       " 'sm ac blind date u rodds aberdeen united kingdom check httpimg sm acwicmb cktz r blind date send hide',\n",
       " 'yup remb think book',\n",
       " 'jos ask u wana meet',\n",
       " 'lol yes friendship hanging thread cause u wont buy stuff',\n",
       " 'themob check newest selection content game tone gossip babe sport keep mobile fit funky text wap',\n",
       " 'garage key arent bookshelf',\n",
       " 'today accept dayu accept brother sister lover dear best clos lvblefrnd jstfrnd cutefrnd lifpartnr belovd swtheart bstfrnd rply mean enemy',\n",
       " 'think ur smart win week weekly quiz text play nowtcs winnersclub po box uz gbp week',\n",
       " 'say hell give call friend got money he definitely buying end week',\n",
       " 'hi way u day normal waythis real ur uniquei hope know u rest mylife hope u find wot lost',\n",
       " 'made day great day',\n",
       " 'kkadvance happy pongal',\n",
       " 'hmmm guess go kb n power yoga haha dunno tahan power yoga anot thk got lo oso forgot liao',\n",
       " 'really dude friend im afraid',\n",
       " 'december mobile mths entitled update latest colour camera mobile free call mobile update co free',\n",
       " 'coffee cake guess',\n",
       " 'merry christmas babe love ya kiss',\n",
       " 'hey dont go watch x men lunch haha',\n",
       " 'cud u tell ppl im gona b bit l co bus hav gon past co full im still waitin pete x',\n",
       " 'would great well guild could meet bristol road somewhere get touch weekend plan take flight good week',\n",
       " 'problem',\n",
       " 'callsmessagesmissed call',\n",
       " 'hi dahow today class',\n",
       " 'id say thats good sign well know track record reading woman',\n",
       " 'cool text youre parked',\n",
       " 'im reading text sent meant joke read light',\n",
       " 'kkapo kgood movie',\n",
       " 'maybe could get book tomo return immediately something',\n",
       " 'call germany penny per minute call fixed line via access number prepayment direct access',\n",
       " 'chance might evaporated soon violated privacy stealing phone number employer paperwork cool please contact report supervisor',\n",
       " 'valentine day special win quiz take partner trip lifetime send go pmsg rcvd custcare',\n",
       " 'tadaaaaa home babe still',\n",
       " 'cool come havent wined dined',\n",
       " 'sleepingand surfing',\n",
       " 'sorry ill call later',\n",
       " 'u calling right call hand phone',\n",
       " 'ok thats great thanx lot',\n",
       " 'take post come must text happy reading one wiv hello caroline end favourite bless',\n",
       " 'u hiding stranger',\n",
       " 'interested like',\n",
       " 'sister cleared two round birla soft yesterday',\n",
       " 'gudnitetcpractice going',\n",
       " 'dis yijue jus saw ur mail case huiming havent sent u num dis num',\n",
       " 'one small prestige problem',\n",
       " 'fancy shag dointerested sextextukcom txt xxuk suzy txts cost per msg tncs website x',\n",
       " 'checking really miss seeing jeremiah great month',\n",
       " 'nah cant help ive never iphone',\n",
       " 'youre car hour half im going apeshit',\n",
       " 'today sorry day ever angry ever misbehaved hurt plz plz slap urself bcoz ur fault im basically good',\n",
       " 'yo guy ever figure much need alcohol jay trying figure much safely spend weed',\n",
       " 'ltgt ish minute minute ago wtf',\n",
       " 'thank callingforgot say happy onam sirjii fine remembered met insurance personmeet qatar insha allahrakhesh ex tata aig joined tisscotayseer',\n",
       " 'congratulation ur awarded cd voucher gift guaranteed free entry wkly draw txt music tncs wwwldewcom win ppmx age',\n",
       " 'ur cashbalance currently pound maximize ur cashin send cash pmsg cc hgsuite land roww j hl',\n",
       " 'im actor work work evening sleep late since im unemployed moment always sleep late youre unemployed every day saturday',\n",
       " 'hello got st andrewsboy long way cold keep posted',\n",
       " 'ha ha cool cool chikku chikkudb',\n",
       " 'oh ok prob',\n",
       " 'check audreys status right',\n",
       " 'busy trying finish new year looking forward finally meeting',\n",
       " 'good afternoon sunshine dawn day refreshed happy alive breathe air smile think love always',\n",
       " 'well know z take care worry',\n",
       " 'updatenow xmas offer latest motorola sonyericsson nokia free bluetooth double min txt orange call mobileupd call optoutf q',\n",
       " 'discount code rp stop message reply stop wwwregalportfoliocouk customer service',\n",
       " 'wat uniform get',\n",
       " 'cool text youre ready',\n",
       " 'hello boytoy geeee miss already woke wish bed cuddling love',\n",
       " 'spoil bed well',\n",
       " 'im going bath msg next ltgt min',\n",
       " 'cant keep talking people sure pay agree price pls tell want really buy much willing pay',\n",
       " 'thanks ringtone order reference charged gbp per week unsubscribe anytime calling customer service',\n",
       " 'say happen',\n",
       " 'could seen mei didt recognise face',\n",
       " 'well there lot thing happening lindsay new year sigh bar ptbo blue heron something going',\n",
       " 'keep payasam rinu brings',\n",
       " 'taught ranjith sir called sm like becaus he verifying project prabu told today pa dont mistake',\n",
       " 'guess thats worried must know there way body repair im quite sure shouldnt worry well take slow first test guide ovulation relax nothing youve said reason worry ill keep followin',\n",
       " 'yeah sure give couple minute track wallet',\n",
       " 'hey leave big deal take care',\n",
       " 'hey late ah meet',\n",
       " 'double min txts month free bluetooth orange available sony nokia motorola phone call mobileupd call optoutn dx',\n",
       " 'took mr owl lick',\n",
       " 'customer place call',\n",
       " 'mm time dont like fun',\n",
       " 'mths half price orange line rental latest camera phone free phone mths call mobilesdirect free update stoptxt',\n",
       " 'yup lunch buffet u eat already',\n",
       " 'huh late fr dinner',\n",
       " 'hey sat going intro pilate kickboxing',\n",
       " 'morning ok',\n",
       " 'yes think office lap room think thats last day didnt shut',\n",
       " 'pick bout ish time going',\n",
       " 'performance award calculated every two monthnot current one month period',\n",
       " 'actually sleeping still might u call back text gr rock si send u text wen wake',\n",
       " 'always putting business put picture as facebook one open people ive ever met would think picture room would hurt make feel violated',\n",
       " 'good evening sir al salam wahleykkumsharing happy newsby grace god got offer tayseertissco joinedhope fineinshah allahmeet sometimerakheshvisitor india',\n",
       " 'hmmmkbut want change field quickly dai wan na get system administrator network administrator',\n",
       " 'free ringtone text first poly text get true tone help st free tone x pw e nd txt stop',\n",
       " 'dear chechi talk',\n",
       " 'hair cream shipped',\n",
       " 'none thats happening til get though',\n",
       " 'yep great loxahatchee xmas tree burning ltgt start hour',\n",
       " 'haha get used driving usf man know lot stoner',\n",
       " 'well slightly disastrous class pm fav darling hope day ok coffee wld good cant stay late tomorrow time place always',\n",
       " 'hello good week fancy drink something later',\n",
       " 'headin towards busetop',\n",
       " 'messagesome text missing sendername missing number missing sentdate missing missing u lot thats everything missing sent via fullonsmscom',\n",
       " 'come room point iron plan weekend',\n",
       " 'co want thing',\n",
       " 'okies ill go yan jiu skip ard oso go cine den go mrt one blah blah blah',\n",
       " 'bring home wendy',\n",
       " 'dating service call box sk ch',\n",
       " 'whatsup dont u want sleep',\n",
       " 'alright new goal',\n",
       " 'free entry weekly competition text word win tc wwwtxttowincouk',\n",
       " 'alright ill head minute text meet',\n",
       " 'send logo ur lover name joined heart txt love name name mobno eg love adam eve yahoo pobox w wq txtno ad p',\n",
       " 'yesfrom last week im taking live call',\n",
       " 'someone contacted dating service entered phone fancy find call landline pobox n tf p',\n",
       " 'siva hostel aha',\n",
       " 'urgent mobile number awarded prize guaranteed call land line claim valid hr',\n",
       " 'send ur friend receive something ur voice speaking expression childish naughty sentiment rowdy ful attitude romantic shy attractive funny ltgt irritating ltgt lovable reply',\n",
       " 'ok shell ok guess',\n",
       " 'aathiwhere dear',\n",
       " 'pain urination thing else',\n",
       " 'esplanade mind giving lift co got car today',\n",
       " 'wnt buy bmw car urgentlyits vry urgentbut hv shortage ltgt lacsthere source arng dis amt ltgt lacsthats prob',\n",
       " 'home watching tv lor',\n",
       " 'usually take fifteen fucking minute respond yes question',\n",
       " 'congrats nokia video camera phone call call cost ppm ave call min vary mobile close post bcm ldn wc n xx',\n",
       " 'booked ticket pongal',\n",
       " 'available im like right around hillsborough amp ltgt th',\n",
       " 'message sent askin ltgt dollar shoul pay ltgt ltgt',\n",
       " 'ask g iouri ive told story like ten time already',\n",
       " 'long applebees fucking take',\n",
       " 'hi hope u get txtjourney hasnt gdnow min late think',\n",
       " 'like love arrange',\n",
       " 'yeshe really greatbhaji told kallis best cricketer sachin worldvery tough get',\n",
       " 'supposed wake gt',\n",
       " 'oic saw tot din c found group liao',\n",
       " 'sorry ill call later',\n",
       " 'hey hey werethe monkeespeople say monkeyaround howdy gorgeous',\n",
       " 'sorry battery died come im getting gram wheres place',\n",
       " 'well done blimey exercise yeah kinda remember wot hmm',\n",
       " 'wont get concentration dear know mind everything',\n",
       " 'lol made plan new year',\n",
       " 'min later k',\n",
       " 'hank lotsly',\n",
       " 'thanks hope good day today',\n",
       " 'kkwhat detail want transferacc enough',\n",
       " 'ok tell stay yeah tough optimistic thing improve month',\n",
       " 'loan purpose homeowner tenant welcome previously refused still help call free text back help',\n",
       " 'si si think ill go make oreo truffle',\n",
       " 'look amy ure beautiful intelligent woman like u lot know u like like worry',\n",
       " 'hope thats result consistently intelligent kind start asking practicum link keep ear open best ttyl',\n",
       " 'call cost guess isnt bad miss ya need ya want ya love ya',\n",
       " 'going thru different feelingwavering decision coping individualtime heal everything believe',\n",
       " 'u go phone gon na die stay',\n",
       " 'great never better day give even reason thank god',\n",
       " 'upgrdcentre orange customer may claim free camera phone upgrade loyalty call offer end th july tc apply optout available',\n",
       " 'sorry ill call later ok bye',\n",
       " 'ok way railway',\n",
       " 'great princess love giving receiving oral doggy style fave position enjoy making love ltgt time per night',\n",
       " 'dont put stuff road keep getting slippery',\n",
       " 'going ride bike',\n",
       " 'yup need ill jus wait e rain stop',\n",
       " 'many company tell language',\n",
       " 'okmail dear dave final notice collect tenerife holiday cash award call landline tc sae box cw wx ppm',\n",
       " 'long since screamed princess',\n",
       " 'nothing meant money enters account bank remove flat rate someone transfered ltgt account ltgt dollar got removed bank differ charge also differbe sure trust ja person sending account detail co',\n",
       " 'want get laid tonight want real dogging location sent direct ur mob join uk largest dogging network txting moan nyt ec pmsg p',\n",
       " 'nice line said broken heart plz dont cum time infront wise trust u good',\n",
       " 'ok im gon na head usf like fifteen minute',\n",
       " 'love aathilove u lot',\n",
       " 'tension ahwhat machiany problem',\n",
       " 'k pick another th youre done',\n",
       " 'whenre guy getting back g said thinking staying mcr',\n",
       " 'almost see u sec',\n",
       " 'yo carlos friend already asking working weekend',\n",
       " 'watching tv lor',\n",
       " 'thank baby cant wait taste real thing',\n",
       " 'change fb jaykwon thuglyfe falconerf',\n",
       " 'win really side long time',\n",
       " 'free message activate free text message replying message word free term condition visit www com',\n",
       " 'dear reached railway happen',\n",
       " 'depends quality want type sent boye faded glory want ralphs maybe',\n",
       " 'think ive fixed send test message',\n",
       " 'sorry man account dry would want could trade back half could buy shit credit card',\n",
       " 'congrats year special cinema pas call c suprman v matrix starwars etc free bx ip pm dont miss',\n",
       " 'sorryin meeting ill call later',\n",
       " 'class ltgt reunion',\n",
       " 'free nowcan call',\n",
       " 'got meh',\n",
       " 'nope think go monday sorry replied late',\n",
       " 'told accenture confirm true',\n",
       " 'kate jackson rec center ish right',\n",
       " 'dear reache room',\n",
       " 'fighting world easy u either win lose bt fightng close u dificult u lose u lose u win u still lose',\n",
       " 'come',\n",
       " 'check nuerologist',\n",
       " 'lolnice went fish water',\n",
       " 'congratulation week competition draw u prize claim call b tcsstop sm ppm',\n",
       " 'waiting e car dat bored wat co wait outside got nothing home stuff watch tv wat',\n",
       " 'maybe westshore hyde park village place near house',\n",
       " 'know hows anthony bringing money ive school fee pay rent stuff like thats need help friend need',\n",
       " 'whats significance',\n",
       " 'opinion jada kusruthi lovable silent spl character matured stylish simple pls reply',\n",
       " 'latest g still scrounge ammo want give new ak try',\n",
       " 'prabhaim sorydarealyfrm heart im sory',\n",
       " 'lol ok forgiven',\n",
       " 'nojst change tat',\n",
       " 'guaranteed latest nokia phone gb ipod mp player prize txt word collect ibhltd ldnw h pmtmsgrcvd',\n",
       " 'sno competition',\n",
       " 'boltblue tone p reply poly mono eg poly cha cha slide yeah slow jamz toxic come stop tone txt',\n",
       " 'credit topped httpwwwbubbletextcom renewal pin tgxxrz',\n",
       " 'way transport le problematic sat night way u want ask n join bday feel free need know definite no booking fri',\n",
       " 'usually person unconscious thats child adult may behave abnormally ill call',\n",
       " 'thats ebay might le elsewhere',\n",
       " 'shall come get pickle',\n",
       " 'gon na go get taco',\n",
       " 'thats rude campus',\n",
       " 'urgent mobile awarded bonus caller prize nd attempt contact call box qu',\n",
       " 'hi wont b ard christmas enjoy n merry xmas',\n",
       " 'today offer claim ur worth discount voucher text yes savamob member offer mobile c sub unsub reply x',\n",
       " 'yes pretty lady like single',\n",
       " 'recieve tone within next hr term condition please see channel u teletext pg',\n",
       " 'jay say youre doublefaggot',\n",
       " 'private account statement show unredeemed sim point call identifier code expires',\n",
       " 'todaysundaysunday holidayso work',\n",
       " 'gudnitetcpractice going',\n",
       " 'ill late',\n",
       " 'ive called hoping l r malaria know miss guy miss ban big pls give love especially great day',\n",
       " 'good afternoon love go day hope maybe got lead job think boytoy send passionate kiss across sea',\n",
       " 'probably gon na see later tonight lt',\n",
       " 'maybe fat finger press button doesnt know',\n",
       " 'ummmmmaah many many happy return day dear sweet heart happy birthday dear',\n",
       " 'tirupur da started office call',\n",
       " 'wwwapplausestorecom monthlysubscription pmsg max month tcsc web age stop txt stop',\n",
       " 'famous quote develop ability listen anything unconditionally without losing temper self confidence mean married',\n",
       " 'going college pa else ill come self pa',\n",
       " 'oclock mine bash flat plan',\n",
       " 'girl stay bed girl doesnt need recovery time id rather pas fun cooped bed',\n",
       " 'special',\n",
       " 'know need get hotel got invitation apologise cali sweet come english bloke weddin',\n",
       " 'sorry took long omw',\n",
       " 'wait ltgt min',\n",
       " 'ok give minute think see btw youre alibi cutting hair whole time',\n",
       " 'imagine finally get sink bath put pace maybe even eat left also imagine feel cage cock surrounded bath water reminding always owns enjoy cuck',\n",
       " 'hurry ive weeddeficient like three day',\n",
       " 'sure get acknowledgement astoundingly tactless generally faggy demand blood oath fo',\n",
       " 'ok every night take warm bath drink cup milk youll see work magic still need loose weight know',\n",
       " 'look frying pan case cheap book perhaps silly frying pan likely book',\n",
       " 'well uv cause mutation sunscreen like essential thesedays',\n",
       " 'lunchyou onlinewhy',\n",
       " 'know friend already told',\n",
       " 'hi princess thank pic pretty',\n",
       " 'aiyo u always c ex one dunno abt mei reply first time u reply fast lucky workin huh got bao ur sugardad ahgee',\n",
       " 'hi msg meim office',\n",
       " 'thanx e brownie v nice',\n",
       " 'geeeee love much barely stand',\n",
       " 'gent trying contact last weekend draw show prize guaranteed call claim code k valid hr ppm',\n",
       " 'fuck babe miss already know cant let send money towards net need want crave',\n",
       " 'ill call u mrw ninish address icky american freek wont stop callin bad jen k eh',\n",
       " 'oooh bed ridden ey thinking',\n",
       " 'anyways go gym whatever love smile hope ok good day babe miss much already',\n",
       " 'love daddy make scream pleasure going slap as dick',\n",
       " 'wot u wan na missy',\n",
       " 'yar lor wait mum finish sch lunch lor whole morning stay home clean room room quite clean hee',\n",
       " 'know lab goggles went',\n",
       " 'open door',\n",
       " 'waiting call',\n",
       " 'nope waiting sch daddy',\n",
       " 'cash prize claim call',\n",
       " 'im tired arguing week week want ill',\n",
       " 'wait sch finish ard',\n",
       " 'mobile number claim call u back ring claim hot line',\n",
       " 'arngd marriage u r walkin unfortuntly snake bite u bt love marriage dancing frnt snake amp sayin bite bite',\n",
       " 'huh early dinner outside izzit',\n",
       " 'ok anyway need change said',\n",
       " 'tried contact reply offer min textand new video phone call reply free delivery tomorrow',\n",
       " 'exwife able kid want kid one day',\n",
       " 'hows scotland hope showing jjc tendency take care live dream',\n",
       " 'tell u headache want use hour sick time',\n",
       " 'dun thk ill quit yet hmmm go jazz yogasana oso go meet em lesson den',\n",
       " 'pete please ring meive hardly gotany credit',\n",
       " 'ya srsly better yi tho',\n",
       " 'im meeting call later',\n",
       " 'ur chance win wkly shopping spree txt shop tscs wwwtxt shopcom custcare x pwk',\n",
       " 'specially selected receive pound award call line close cost ppm tc apply ag promo',\n",
       " 'private account statement show unredeemed point call identifier code expires',\n",
       " 'still grand prix',\n",
       " 'met stranger choose friend long world stand friendship never end let friend forever gud nitz',\n",
       " 'great',\n",
       " 'gud mrng dear nice day',\n",
       " 'important customer service announcement call freephone',\n",
       " 'exhausted train morning much wine pie sleep well',\n",
       " 'im going buy mum present ar',\n",
       " 'mind blastin tsunami occur rajnikant stopped swimming indian oceand',\n",
       " 'u sending home first ok lor im ready yet',\n",
       " 'speaking cash yet',\n",
       " 'happy come noon',\n",
       " 'meet lunch la',\n",
       " 'take care n get well soon',\n",
       " 'xclusiveclubsaisai morow soiree speciale zouk nichols parisfree rose lady info',\n",
       " 'meant say cant wait see u getting bored bridgwater banter',\n",
       " 'neva mind ok',\n",
       " 'fine imma get drink somethin want come find',\n",
       " 'day kick euro u kept date latest news result daily removed send get txt stop',\n",
       " 'valentine game send dis msg ur friend answer r someone really love u ques colour suit bestrply',\n",
       " 'many dependent',\n",
       " 'thanx today cer nice catch ave find time often oh well take care c u soonc',\n",
       " 'called said himthen choose future',\n",
       " 'happy valentine day know early hundred handsomes beauty wish thought finish aunty uncle st',\n",
       " 'like v shock leh co telling shuhui like telling leona also like dat almost know liao got ask abt ur reaction lor',\n",
       " 'family happiness',\n",
       " 'come n pick come immediately aft ur lesson',\n",
       " 'let snow let snow kind weather brings ppl together friendship grow',\n",
       " 'dear got ltgt dollar hi hi',\n",
       " 'good word word may leave u dismay many time',\n",
       " 'make sure alex know birthday fifteen minute far youre concerned',\n",
       " 'sorry got thing may pub later',\n",
       " 'nah straight bring bud drink something thats actually little useful straight cash',\n",
       " 'haha good hear im officially paid market th',\n",
       " 'many lick take get center tootsie pop',\n",
       " 'yup thk r e teacher said make face look longer darren ask cut short',\n",
       " 'new textbuddy chat horny guy ur area p free receive search postcode gaytextbuddycom txt one name',\n",
       " 'today vodafone number ending selected receive award number match call receive award',\n",
       " 'please dont say like hi hi hi',\n",
       " 'thank u',\n",
       " 'oh forwarded message thought send',\n",
       " 'got seventeen pound seven hundred ml hope ok',\n",
       " 'dear voucher holder claim week offer pc go httpwwwetlpcoukexpressoffer tscs apply stop text txt stop',\n",
       " 'n funny',\n",
       " 'sweetheart hope kind day one load reason smile biola',\n",
       " 'login dat time dad fetching home',\n",
       " 'shower baby',\n",
       " 'askd u question hour answer',\n",
       " 'well imma definitely need restock thanksgiving ill let know im',\n",
       " 'said kiss kiss cant sound effect gorgeous man isnt kind person need smile brighten day',\n",
       " 'probably gon na swing wee bit',\n",
       " 'ya nice ready thursday',\n",
       " 'allo braved bus taken train triumphed mean b ham jolly good rest week',\n",
       " 'watching cartoon listening music amp eve go temple amp church u',\n",
       " 'mind ask happened dont say uncomfortable',\n",
       " 'private account statement show unredeemed point call identifier code expires',\n",
       " 'prob send email',\n",
       " 'cash prize claim call tc rstm sw s ppm',\n",
       " 'thats cool sometimes slow gentle sonetimes rough hard',\n",
       " 'im gon na say sorry would normal starting panic time sorry seeing tuesday',\n",
       " 'wait know wesley town bet hella drug',\n",
       " 'fine miss much',\n",
       " 'u got person story',\n",
       " 'tell drug dealer getting impatient',\n",
       " 'sun cant come earth send luv ray cloud cant come river send luv rain cant come meet u send care msg u gud evng',\n",
       " 'place man',\n",
       " 'doesnt make sense take unless free need know wikipediacom',\n",
       " 'premium phone service call',\n",
       " 'sea lay rock rock envelope envelope paper paper word',\n",
       " 'mum repent',\n",
       " 'sorry going home first daddy come fetch later',\n",
       " 'leave de start prepare next',\n",
       " 'yes baby study position kama sutra',\n",
       " 'en chikku nange bakra msg kalstiyathen teacoffee',\n",
       " 'carlosll minute still need buy',\n",
       " 'pay ltdecimalgt lakh',\n",
       " 'good evening ttyl',\n",
       " 'u receive msg',\n",
       " 'ho ho big belly laugh see ya tomo',\n",
       " 'sm ac sun post helloyou seem cool',\n",
       " 'get ur st ringtone free reply msg tone gr top tone phone every week per wk opt send stop',\n",
       " 'ditto wont worry saying anything anymore like said last night whatever want ill peace',\n",
       " 'ive got ltgt way could pick',\n",
       " 'dont knw pa drink milk',\n",
       " 'maybe say hi find got card great escape wetherspoons',\n",
       " 'piggy r u awake bet ure still sleeping im going lunch',\n",
       " 'cause im freaky lol',\n",
       " 'missed call cause yelling scrappy miss u cant wait u come home im lonely today',\n",
       " 'hex place talk explain',\n",
       " 'log wat sdryb',\n",
       " 'xy going e lunch',\n",
       " 'hi im sue year old work lapdancer love sex text live im bedroom text sue textoperator g da ppmsg',\n",
       " 'wanted ask wait finish lect co lect finish hour anyway',\n",
       " 'finished work yet',\n",
       " 'every king cry baby every great building map imprtant u r today u wil reach tomorw gud ni',\n",
       " 'dearme cherthalain case u r coming cochin pls call bfore u starti shall also reach accordinglyor tell day u r comingtmorow engaged an holiday',\n",
       " 'thanks love torch bold',\n",
       " 'forwarded please call immediately urgent message waiting',\n",
       " 'farm open',\n",
       " 'sorry trouble u buy dad big small sat n sun thanx',\n",
       " 'sister law hope great month saying hey abiola',\n",
       " 'purchase stuff today mail po box number',\n",
       " 'ah poop look like ill prob send laptop get fixed cuz gpu problem',\n",
       " 'good good job like entrepreneur',\n",
       " 'aight close still around alexs place',\n",
       " 'meet corporation st outside gap see mind working',\n",
       " 'mum ask buy food home',\n",
       " 'ku also dont msg reply msg',\n",
       " 'much r willing pay',\n",
       " 'sorry ill call later',\n",
       " 'important prevent dehydration giving enough fluid',\n",
       " 'thats bit weird even supposed happening good idea sure pub',\n",
       " 'true deari sat pray evening felt soso smsd time',\n",
       " 'dont think get away trek long family town sorry',\n",
       " 'wan na gym harri',\n",
       " 'quite late lar ard anyway wun b drivin',\n",
       " 'review keep fantastic nokia ngage game deck club nokia go wwwcnupdatescomnewsletter unsubscribe alert reply word',\n",
       " 'mths half price orange line rental latest camera phone free phone mths call mobilesdirect free update stoptxt tc',\n",
       " 'height confidence aeronautics professor wer calld amp wer askd sit aeroplane aftr sat wer told dat plane w made student dey hurried plane bt didnt move saidif made student',\n",
       " 'seems like weird timing night g want come smoke day shitstorm attributed always coming making everyone smoke',\n",
       " 'pm cost p',\n",
       " 'save stress person dorm account send account detail money sent',\n",
       " 'also know lunch menu da know',\n",
       " 'stuff sell ill tell',\n",
       " 'urgent nd attempt contact uu call b tcsbcm wc n xx callcost ppm mobilesvary max',\n",
       " 'book lesson msg call work sth im going get spec membership px',\n",
       " 'guaranteed cash prize claim yr prize call customer service representative pm',\n",
       " 'macha dont feel upseti assume mindsetbelieve one evening wonderful plan uslet life begin againcall anytime',\n",
       " 'oh send address',\n",
       " 'sfine anytime best',\n",
       " 'wondar full flim',\n",
       " 'ya even cooky jelly',\n",
       " 'world running stillmaybe feeling sameso itor admiti madthen correctionor let call lifeand keep running worldmay u r also runninglets run',\n",
       " 'got look scrumptious daddy want eat night long',\n",
       " 'co lar im ba dao ok pm lor u never ask go ah said u would ask fri said u ask today',\n",
       " 'alright omw got ta change order half th',\n",
       " 'exactly anyways far jide study visiting',\n",
       " 'dunno u ask',\n",
       " 'email alertfrom jeri stewartsize kbsubject lowcost prescripiton drvgsto listen email call',\n",
       " 'didnt spring coming early yay',\n",
       " 'lol wont feel bad use money take steak dinner',\n",
       " 'even u dont get trouble convincingjust tel twice tel neglect msg dont c read itjust dont reply',\n",
       " 'leaving qatar tonite search opportunityall went fastpls add ur prayer dearrakhesh',\n",
       " 'one talking',\n",
       " 'thanks looking really appreciate',\n",
       " 'hi customer loyalty offerthe new nokia mobile txtauction txt word start get tctxt tc pmtmsg',\n",
       " 'wish',\n",
       " 'haha mayb ure rite u know well da feeling liked someone gd lor u faster go find one gal group attached liao',\n",
       " 'yes glad made',\n",
       " 'well little time thing good time ahead',\n",
       " 'got room soon hadnt put clock back til shouted everyone get realised wahay another hour bed',\n",
       " 'ok may free gym',\n",
       " 'men like shorter lady gaze eye',\n",
       " 'dunno jus say go lido time',\n",
       " 'promise take good care princess run please send pic get chance ttyl',\n",
       " 'u subscribed best mobile content service uk per day send stop helpline',\n",
       " 'reason weve spoken year anyways great week best exam',\n",
       " 'monday next week give full gist',\n",
       " 'realize year well thousand old lady running around tattoo',\n",
       " 'important customer service announcement premier',\n",
       " 'dont gim lip caveboy',\n",
       " 'get library',\n",
       " 'realy sorryi dont recognise number confused r u please',\n",
       " 'didnt holla',\n",
       " 'cant think anyone spare room top head',\n",
       " 'faith make thing possiblehope make thing worklove make thing beautifulmay three christmasmerry christmas',\n",
       " 'u made appointment',\n",
       " 'call youcarlos isare phone vibrate acting might hear text',\n",
       " 'romantic paris night flight book next year call tscs apply',\n",
       " 'grandma oh dear u still ill felt shit morning think hungover another night leave sat',\n",
       " 'urgent ur guaranteed award still unclaimed call closingdate claimcode pmmorefrommobile bremovedmobypobox l yf',\n",
       " 'nothing jus tot u would ask co u ba gua went mt faber yest yest jus went already mah today going jus call lor',\n",
       " 'wishing family merry x ma happy new year advance',\n",
       " 'ur awarded city break could win summer shopping spree every wk txt store skilgme tscs winawkage perwksub',\n",
       " 'im nt goin got somethin unless meetin dinner lor haha wonder go ti time',\n",
       " 'sorry ill call later',\n",
       " 'cant pick phone right pls send message',\n",
       " 'lol know theyre dramatic school already closed tomorrow apparently cant drive inch snow supposed get',\n",
       " 'getting anywhere damn job hunting',\n",
       " 'lol u drunkard hair moment yeah still tonight wats plan',\n",
       " 'idc get weaseling way shit twice row',\n",
       " 'wil ltgt minute got space',\n",
       " 'sleepingand surfing',\n",
       " 'thanks picking trash',\n",
       " 'dont go tell friend youre sure want live smoke much spend hour begging come smoke',\n",
       " 'hi kate lovely see tonight ill phone tomorrow got sing guy gave card xxx',\n",
       " 'happy new year dear brother really miss got number decided send text wishing happiness abiola',\n",
       " 'mean get door',\n",
       " 'opinion jada kusruthi lovable silent spl character matured stylish simple pls reply',\n",
       " 'hmmm thought said hour slave late punish',\n",
       " 'beerage',\n",
       " 'important customer service announcement premier call freephone',\n",
       " 'dont think turn like randomlly within min opening',\n",
       " 'supposed couldnt make shes still town though',\n",
       " 'time fix spelling sometimes get completely diff word go figure',\n",
       " 'ever thought living good life perfect partner txt back name age join mobile community psms',\n",
       " 'free top polyphonic tone call national rate get toppoly tune sent every week text subpoly per pole unsub',\n",
       " 'gud mrng dear hav nice day',\n",
       " 'hoping enjoyed game yesterday sorry ive touch pls know fondly bein thot great week abiola',\n",
       " 'e best ur driving tmr',\n",
       " 'ywhere u dogbreath sounding like jan c al',\n",
       " 'omg want scream weighed lost weight woohoo',\n",
       " 'generally isnt one uncountable noun u dictionary piece research',\n",
       " 'really getting hanging around',\n",
       " 'orange customer may claim free camera phone upgrade loyalty call offer end thmarch tc apply optout availa',\n",
       " 'petey boy whereare friendsare thekingshead come canlove nic',\n",
       " 'ok msg u b leave house',\n",
       " 'gim ltgt minute ago',\n",
       " 'last chance claim ur worth discount voucher today text shop savamob offer mobile c savamob pobox uz sub',\n",
       " 'appt lttimegt fault u dont listen told u twice',\n",
       " 'free st week nokia tone ur mobile every week txt nokia get txting tell ur mate wwwgetzedcouk pobox w wq norm ptone',\n",
       " 'guaranteed award even cashto claim ur award call free stop getstop php rg jx',\n",
       " 'k ill',\n",
       " 'dled imp',\n",
       " 'sure make sure know aint smokin yet',\n",
       " 'boooo always work quit',\n",
       " 'taking half day leave bec well',\n",
       " 'ugh dont wan na get bed warm',\n",
       " 'ssnervous ltgt',\n",
       " 'there ring come guy costume gift future yowifes hint hint',\n",
       " 'congratulation ur awarded either cd gift voucher free entry weekly draw txt music tncs wwwldewcom win ppmx age',\n",
       " 'borrow ur bag ok',\n",
       " 'u outbid simonwatson shinco dvd plyr bid visit sm acsmsrewards end bid notification reply end',\n",
       " 'wheres boytoy miss happened',\n",
       " 'lot used one babe model doesnt help youi bring hell match',\n",
       " 'also bringing galileo dobby',\n",
       " 'responding',\n",
       " 'boo babe u enjoyin yourjob u seemed b gettin well hunnyhope ure oktake care llspeak u soonlots loveme xxxx',\n",
       " 'good afternoon starshine hows boytoy crave yet ache fuck sip cappuccino miss babe teasing kiss',\n",
       " 'road cant txt',\n",
       " 'smsservices yourinclusive text credit pls goto wwwcomuknet login qxj unsubscribe stop extra charge help comuk cm ae',\n",
       " 'p alfie moon child need song ur mob tell ur txt tone charity nokias poly charity polys zed profit charity',\n",
       " 'good evening ttyl',\n",
       " 'hmm bit piece lol sigh',\n",
       " 'hahahause brain dear',\n",
       " 'hey got mail',\n",
       " 'sorry light turned green meant another friend wanted ltgt worth may around',\n",
       " 'thanks yesterday sir wonderful hope enjoyed burial mojibiola',\n",
       " 'u secret admirer reveal think u r special call opt reply reveal stop per msg recd cust care',\n",
       " 'hi mate rv u hav nice hol message say hello coz sent u age started driving stay roadsrvx',\n",
       " 'dear voucher holder claim week offer pc please go httpwwwetlpcoukexpressoffer tscs apply stop text txt stop',\n",
       " 'thank much skyped wit kz sura didnt get pleasure company hope good weve given ultimatum oh countin aburo enjoy message sent day ago',\n",
       " 'surely result offer',\n",
       " 'good morning dear great amp successful day',\n",
       " 'want anytime network min text new video phone five pound per week call reply delivery tomorrow',\n",
       " 'sir late paying rent past month pay ltgt charge felt would inconsiderate nag something give great cost thats didnt speak however recession wont able pay charge month hence askin well ahead month end please help thanks',\n",
       " 'tried contact offer new video phone anytime network min half price rental camcorder call reply delivery wed',\n",
       " 'last chance claim ur worth discount voucherstext yes nowsavamobmember offer mobile c sub remove txt x stop',\n",
       " 'luv u soo much u understand special u r ring u morrow luv u xxx',\n",
       " 'pls send comprehensive mail im paying much',\n",
       " 'prashanthettans mother passed away last night pray family',\n",
       " 'urgent call landline complimentary ibiza holiday cash await collection sae tc po box sk wp ppm',\n",
       " 'kkwhen going',\n",
       " 'meanwhile shit suite xavier decided give u ltgt second warning samantha coming playing jay guitar impress shit also dont think doug realizes dont live anymore',\n",
       " 'stomach thru much trauma swear cant eat better lose weight',\n",
       " 'officewhats mattermsg nowi call break',\n",
       " 'yeah there barely enough room two u x many fucking shoe sorry man see later',\n",
       " 'today offer claim ur worth discount voucher text yes savamob member offer mobile c sub unsub reply x',\n",
       " 'u reach orchard already u wan go buy ticket first',\n",
       " 'real baby want bring inner tigress',\n",
       " 'da run activate full version da',\n",
       " 'ah poor babyhope urfeeling bettersn luv probthat overdose work hey go careful spk u sn lot lovejen xxx',\n",
       " 'stop story ive told ive returned he saying order',\n",
       " 'talk sexy make new friend fall love world discreet text dating service text vip see could meet',\n",
       " 'going take babe',\n",
       " 'hai ana tomarrow coming morning ltdecimalgt ill sathy go rto office reply came home',\n",
       " 'spoon okay',\n",
       " 'say somebody named tampa',\n",
       " 'work going min',\n",
       " 'brother genius',\n",
       " 'sorry guess whenever get hold connection maybe hour two ill text',\n",
       " 'u find time bus coz need sort stuff',\n",
       " 'dude ive seeing lotta corvette lately',\n",
       " 'congratulation ur awarded either yr supply cd virgin record mystery gift guaranteed call tscs wwwsmsconet pm approx min',\n",
       " 'consider wall bunker shit important never play peaceful guess place high enough dont matter',\n",
       " 'private account statement xxxxxx show unredeemed point call identifier code expires',\n",
       " 'hello need posh bird chap user trial prod champneys put need address dob asap ta r',\n",
       " 'u want xmas free text message new video phone half price line rental call free find',\n",
       " 'well officially philosophical hole u wan na call home ready saved',\n",
       " 'going goodno problembut still need little experience understand american customer voice',\n",
       " 'ill text drop x',\n",
       " 'ugh long day im exhausted want cuddle take nap',\n",
       " 'talk atleast day otherwise miss best friend world shakespeare shesil ltgt',\n",
       " 'shop till u drop either k k cash travel voucher call ntt po box cr bt fixedline cost ppm mobile vary',\n",
       " 'castor need see something',\n",
       " 'sunshine quiz wkly q win top sony dvd player u know country liverpool played mid week txt ansr sptyrone',\n",
       " 'u secret admirer looking make contact ufind rreveal think ur specialcall',\n",
       " 'u secret admirer looking make contact ufind rreveal think ur specialcall stopsms',\n",
       " 'reminder downloaded content already paid goto httpdoit mymoby tv collect content',\n",
       " 'see knew giving break time woul lead always wanting miss curfew gon na gibe til one midnight movie gon na get til need come home need getsleep anything need b studdying ear training',\n",
       " 'love give massage use lot baby oil fave position',\n",
       " 'dude go sup',\n",
       " 'yoyyooo u know change permission drive mac usb flash drive',\n",
       " 'gibbs unsoldmike hussey',\n",
       " 'like talk pa able dont know',\n",
       " 'dun cut short leh u dun like ah failed shes quite sad',\n",
       " 'unbelievable faglord',\n",
       " 'wifehow knew time murder exactly',\n",
       " 'ask princess',\n",
       " 'great princess thinking',\n",
       " 'nutter cutter ctter cttergg cttargg ctargg ctagg ie',\n",
       " 'ok noe ure busy im really bored msg u oso dunno wat colour choose one',\n",
       " 'doesnt g class early tomorrow thus shouldnt trying smoke ltgt',\n",
       " 'superb thought grateful u dont everything u want mean u still opportunity happier tomorrow u today',\n",
       " 'hope good week checking',\n",
       " 'im used hope agent dont drop since ive booked thing year whole boston nyc experiment',\n",
       " 'thursday night yeah sure thing well work',\n",
       " 'free ringtone waiting collected simply text password mix verify get usher britney fml',\n",
       " 'probably money worry thing coming due several outstanding invoice work two three month ago',\n",
       " 'possible teach',\n",
       " 'wonder phone battery went dead tell love babe',\n",
       " 'lovely smell bus aint tobacco',\n",
       " 'getting worried derek taylor already assumed worst',\n",
       " 'hey whats charles sorry late reply',\n",
       " 'lastest stereophonics marley dizzee racal libertine stroke win nookii game flirt click themob wap bookmark text wap',\n",
       " 'ill give plus said grinule greet whenever speak',\n",
       " 'white fudge oreo store',\n",
       " 'january male sale hot gay chat cheaper call national rate pmin cheap pmin peak stop text call pmin',\n",
       " 'love come took long leave zahers got word ym happy see sad left miss',\n",
       " 'sorry hurt',\n",
       " 'cant feel nauseous im pissed didnt eat sweet week cause today planning pig dieting week im hungry',\n",
       " 'ok lor early still project meeting',\n",
       " 'call da waiting call',\n",
       " 'could ask carlos could get anybody else chip',\n",
       " 'actually send reminder today wonderful weekend',\n",
       " 'people see msg think iam addicted msging wrong bcoz dont know iam addicted sweet friend bslvyl',\n",
       " 'hey gave photo registered driving ah tmr wan na meet yck',\n",
       " 'dont talk ever ok word',\n",
       " 'u wana see',\n",
       " 'way school pls send ashleys number',\n",
       " 'shall fine avalarr hollalater',\n",
       " 'went attend another two round todaybut still didt reach home',\n",
       " 'actually deleted old websitenow blogging magicalsongsblogspotcom',\n",
       " 'k wait chikkuil send aftr ltgt min',\n",
       " 'im diet ate many slice pizza yesterday ugh im always diet',\n",
       " 'ki give kvb acc detail',\n",
       " 'oh come ah',\n",
       " 'money r lucky winner claim prize text money million give away ppt x normal text rate box w jy',\n",
       " 'im really sorry wont b able fridayhope u find alternativehope yr term going ok',\n",
       " 'congratulation ore mo owo wa enjoy wish many happy moment fro wherever go',\n",
       " 'samus shoulder yet',\n",
       " 'time think youll need know near campus',\n",
       " 'dear matthew please call landline complimentary lux tenerife holiday cash await collection ppm sae tc box sk xh',\n",
       " 'dun wear jean lor',\n",
       " 'since side fever vomitin',\n",
       " 'kkare college',\n",
       " 'urgent call landline complimentary tenerife holiday cash await collection sae tc box hp yf ppm',\n",
       " 'better made friday stuffed like pig yesterday feel bleh least writhing pain kind bleh',\n",
       " 'sell well ton coin sell coin someone thru paypal voila money back life pocket',\n",
       " 'theyre lot place hospital medical place safe',\n",
       " 'getting touch folk waiting company txt back name age opt enjoy community psms',\n",
       " 'also ive sorta blown couple time recently id rather text blue looking weed',\n",
       " 'sent score sophas secondary application school think thinking applying research cost also contact joke ogunrinde school one le expensive one',\n",
       " 'cant wait see photo useful',\n",
       " 'ur cashbalance currently pound maximize ur cashin send go pmsg cc po box tcrw',\n",
       " 'hey booked kb sat already lesson going ah keep sat night free need meet confirm lodging',\n",
       " 'chk ur belovd m dict',\n",
       " 'time want come',\n",
       " 'awesome lem know whenever youre around',\n",
       " 'shb b ok lor thanx',\n",
       " 'beautiful truth gravity read carefully heart feel light someone feel heavy someone leaf good night',\n",
       " 'also remember get dobbys bowl car',\n",
       " 'filthy story girl waiting',\n",
       " 'sorry c ur msg yar lor poor thing one night tmr ull brand new room sleep',\n",
       " 'love isnt decision feeling could decide love life would much simpler le magical',\n",
       " 'welp apparently retired',\n",
       " 'sort code acc bank natwest reply confirm ive sent right person',\n",
       " '',\n",
       " 'u sure u cant take sick time',\n",
       " 'urgent trying contact u today draw show prize guaranteed call land line claim valid hr',\n",
       " 'watching cartoon listening music amp eve go temple amp church u',\n",
       " 'yo chad gymnastics class wan na take site say christian class full',\n",
       " 'much buzy',\n",
       " 'better still catch let ask sell ltgt',\n",
       " 'sure night menu know noon menu',\n",
       " 'u want come backa beautiful necklace token heart youthats give wife likingbe seeno one give thatdont call mei wait till come',\n",
       " 'willing go aptitude class',\n",
       " 'wont b trying sort house ok',\n",
       " 'yar lor wan go c horse racing today mah eat earlier lor ate chicken rice u',\n",
       " 'haha awesome omw back',\n",
       " 'yup thk e shop close lor',\n",
       " 'account number',\n",
       " 'eh u send wrongly lar',\n",
       " 'hey ad crap nite borin without ya boggy u boring biatch thanx u wait til nxt time il ave ya',\n",
       " 'ok shall talk',\n",
       " 'dont hesitate know second time weakness like keep notebook eat day anything changed day sure nothing',\n",
       " 'hey pay salary de ltgt',\n",
       " 'another month need chocolate weed alcohol',\n",
       " 'started searching get job dayshe great potential talent',\n",
       " 'reckon need town eightish walk carpark',\n",
       " 'congrats mobile g videophones r call videochat wid mate play java game dload polyph music noline rentl',\n",
       " 'look fuckin time fuck think',\n",
       " 'yo guess dropped',\n",
       " 'carlos say hell mu ltgt minute',\n",
       " 'im office call ltgt min',\n",
       " 'geeee miss already know think fuck cant wait till next year together loving kiss',\n",
       " 'yun ahthe ubi one say wan call tomorrowcall look ireneere got bus ubi cresubi tech park ph st wkg day n',\n",
       " 'ugh got ta drive back sd la butt sore',\n",
       " 'th july',\n",
       " 'hi im relaxing time ever get every day party good night get home tomorrow ish',\n",
       " 'wan come come lor din c stripe skirt',\n",
       " 'xmas story peace xmas msg love xmas miracle jesus hav blessed month ahead amp wish u merry xmas',\n",
       " 'cant dont number',\n",
       " 'change e one next escalator',\n",
       " 'yetunde im class run water make ok pls',\n",
       " 'lot happened feel quiet beth aunt charlie working lot helen mo',\n",
       " 'wait bus stop aft ur lect lar dun c go get car come back n pick',\n",
       " 'aight thanks comin',\n",
       " ...]"
      ]
     },
     "execution_count": 77,
     "metadata": {},
     "output_type": "execute_result"
    }
   ],
   "source": [
    "msg_list"
   ]
  },
  {
   "cell_type": "markdown",
   "id": "9d44573f",
   "metadata": {},
   "source": [
    "### countVectorizer\n",
    "- Naive Baiyes - Bernoulli, Multinomial\n",
    "- Logistic Regression\n",
    "- Decision Tree\n",
    "- Rendom Forest Classifire\n",
    "- K-Nearest Neighbour\n",
    "- Support vactor Machine - kernel - poly,linear,rbf,sigmoid"
   ]
  },
  {
   "cell_type": "code",
   "execution_count": 78,
   "id": "ca81a25f",
   "metadata": {},
   "outputs": [],
   "source": [
    "from sklearn.feature_extraction.text import CountVectorizer\n",
    "#cv=CountVectorizer(lowercase=True,stop_words='english',ngram_range=(1,1),tokenizer=tn.tokenize)\n",
    "cv=CountVectorizer()"
   ]
  },
  {
   "cell_type": "code",
   "execution_count": 79,
   "id": "96d85607",
   "metadata": {},
   "outputs": [
    {
     "data": {
      "text/plain": [
       "<5572x7789 sparse matrix of type '<class 'numpy.int64'>'\n",
       "\twith 45390 stored elements in Compressed Sparse Row format>"
      ]
     },
     "execution_count": 79,
     "metadata": {},
     "output_type": "execute_result"
    }
   ],
   "source": [
    "x_cv=cv.fit_transform(msg_list)#.toarray()\n",
    "x_cv"
   ]
  },
  {
   "cell_type": "code",
   "execution_count": 80,
   "id": "9a4b1874",
   "metadata": {},
   "outputs": [
    {
     "data": {
      "text/plain": [
       "array([[0, 0, 0, ..., 0, 0, 0],\n",
       "       [0, 0, 0, ..., 0, 0, 0],\n",
       "       [0, 0, 0, ..., 0, 0, 0],\n",
       "       ...,\n",
       "       [0, 0, 0, ..., 0, 0, 0],\n",
       "       [0, 0, 0, ..., 0, 0, 0],\n",
       "       [0, 0, 0, ..., 0, 0, 0]], dtype=int64)"
      ]
     },
     "execution_count": 80,
     "metadata": {},
     "output_type": "execute_result"
    }
   ],
   "source": [
    "x_cv.toarray()"
   ]
  },
  {
   "cell_type": "code",
   "execution_count": 81,
   "id": "3833fe28",
   "metadata": {},
   "outputs": [
    {
     "data": {
      "text/plain": [
       "<5572x7789 sparse matrix of type '<class 'numpy.int64'>'\n",
       "\twith 45390 stored elements in Compressed Sparse Row format>"
      ]
     },
     "execution_count": 81,
     "metadata": {},
     "output_type": "execute_result"
    }
   ],
   "source": [
    "x_cv"
   ]
  },
  {
   "cell_type": "markdown",
   "id": "1da6c1de",
   "metadata": {},
   "source": [
    "### spliting "
   ]
  },
  {
   "cell_type": "code",
   "execution_count": 82,
   "id": "e07b6ec3",
   "metadata": {},
   "outputs": [
    {
     "data": {
      "text/plain": [
       "((4179, 7789), (1393, 7789), (4179,), (1393,))"
      ]
     },
     "execution_count": 82,
     "metadata": {},
     "output_type": "execute_result"
    }
   ],
   "source": [
    "from sklearn.model_selection import train_test_split\n",
    "x_train,x_test,y_train,y_test=train_test_split(x_cv,df['v1'],test_size=.25)\n",
    "x_train.shape,x_test.shape,y_train.shape,y_test.shape"
   ]
  },
  {
   "cell_type": "markdown",
   "id": "2153de00",
   "metadata": {},
   "source": [
    "### 1. Naive Bayes "
   ]
  },
  {
   "cell_type": "code",
   "execution_count": null,
   "id": "93bb0ea7",
   "metadata": {},
   "outputs": [],
   "source": []
  },
  {
   "cell_type": "code",
   "execution_count": null,
   "id": "09a7cc97",
   "metadata": {},
   "outputs": [],
   "source": []
  },
  {
   "cell_type": "code",
   "execution_count": 83,
   "id": "6e620b9f",
   "metadata": {},
   "outputs": [
    {
     "name": "stdout",
     "output_type": "stream",
     "text": [
      "BernoulliNB()\n",
      "predicted-y [0 0 0 0 1] actual-y [0 0 0 0 1]\n",
      "predicted-y_shape (1393,) actual-y-shape (1393,)\n"
     ]
    },
    {
     "data": {
      "image/png": "[encoded data removed]",
      "text/plain": [
       "<Figure size 720x144 with 2 Axes>"
      ]
     },
     "metadata": {
      "needs_background": "light"
     },
     "output_type": "display_data"
    },
    {
     "name": "stdout",
     "output_type": "stream",
     "text": [
      "              precision    recall  f1-score   support\n",
      "\n",
      "           0       0.99      0.97      0.98      1235\n",
      "           1       0.82      0.96      0.88       158\n",
      "\n",
      "    accuracy                           0.97      1393\n",
      "   macro avg       0.91      0.96      0.93      1393\n",
      "weighted avg       0.97      0.97      0.97      1393\n",
      "\n",
      "accuracy-score 0.9705671213208902\n",
      "Model score 0.9705671213208902\n"
     ]
    }
   ],
   "source": [
    "from sklearn.naive_bayes import BernoulliNB\n",
    "c=BernoulliNB()\n",
    "print(c.fit(x_train,y_train))\n",
    "y_pred=c.predict(x_test)\n",
    "print(f'predicted-y',y_pred[:5],'actual-y',y_test.values[:5])\n",
    "print(f'predicted-y_shape',y_pred.shape,'actual-y-shape',y_test.values.shape)\n",
    "from sklearn.metrics import confusion_matrix,accuracy_score,classification_report\n",
    "cm=confusion_matrix(y_pred,y_test)\n",
    "plt.figure(figsize=(10,2))\n",
    "sns.heatmap(cm,annot=True)\n",
    "plt.plot(y_pred,y_test)\n",
    "plt.xlabel('predicted-y')\n",
    "plt.ylabel('actual-y')\n",
    "plt.show()\n",
    "print(classification_report(y_pred,y_test))\n",
    "print('accuracy-score',accuracy_score(y_pred,y_test))\n",
    "print('Model score',c.score(x_test,y_test))"
   ]
  },
  {
   "cell_type": "code",
   "execution_count": 84,
   "id": "34fa91f7",
   "metadata": {},
   "outputs": [
    {
     "name": "stdout",
     "output_type": "stream",
     "text": [
      "0.94\n",
      "0.9687437185929648\n"
     ]
    }
   ],
   "source": [
    "#macro avg\n",
    "a=.98+.9\n",
    "print(a/2)\n",
    "#whight avg\n",
    "a=.98*1197\n",
    "b=.9*196\n",
    "c=1197+196\n",
    "d=a+b\n",
    "c,d\n",
    "print(d/c)"
   ]
  },
  {
   "cell_type": "markdown",
   "id": "cb7781a0",
   "metadata": {},
   "source": [
    "https://www.jcchouinard.com/classification-report-in-scikit-learn/\n",
    "\n",
    "https://medium.com/swlh/confusion-matrix-and-classification-report-88105288d48f#:~:text=Weighted%20average%3A%20the%20weighted%20average%20is%20calculated%20by,47%29%2F%20%2867%20%2B%2047%29%20%3D%200.93%20%3D%2094%25\n",
    "    \n",
    "-precision - tp/(tp+fp)  proportion of true positive among all the value predicted as positive\n",
    "- accuracy-tp+tn/(tp+tn+fn+fp)\n",
    "- recall - tp/(tp+fn)  porpostion of the positive value\n",
    "- specificity tn/(tn+fp)- proportion of negative value corectly predicted\n",
    "#macro avg\n",
    "a=.98+.9\n",
    "print(a/2)\n",
    "#whight avg\n",
    "a=.98*1197\n",
    "b=.9*196\n",
    "c=1197+196\n",
    "d=a+b\n",
    "c,d\n",
    "print(d/c)"
   ]
  },
  {
   "cell_type": "markdown",
   "id": "d1ba6fa9",
   "metadata": {},
   "source": [
    "https://www.kaggle.com/code/nayansakhiya/spam-ham-classification"
   ]
  },
  {
   "cell_type": "raw",
   "id": "8af6e5a3",
   "metadata": {},
   "source": [
    "from sklearn.preprocessing import StandardScaler\n",
    "sc = StandardScaler(with_mean=False)\n",
    "x_train = sc.fit_transform(x_train)\n",
    "x_tes = sc.transform(x_test)\n",
    "x_train_ann.shape,x_test.shape"
   ]
  },
  {
   "cell_type": "code",
   "execution_count": 85,
   "id": "a83ffda1",
   "metadata": {},
   "outputs": [
    {
     "data": {
      "text/plain": [
       "((1, 7789), (1, 7789))"
      ]
     },
     "execution_count": 85,
     "metadata": {},
     "output_type": "execute_result"
    }
   ],
   "source": [
    "x_train[:1].shape,x_cv[:1].shape"
   ]
  },
  {
   "cell_type": "markdown",
   "id": "eddbb9a0",
   "metadata": {},
   "source": [
    "https://stackoverflow.com/questions/44806125/attributeerror-model-object-has-no-attribute-predict-classes"
   ]
  },
  {
   "cell_type": "code",
   "execution_count": 86,
   "id": "ce785fa9",
   "metadata": {},
   "outputs": [
    {
     "name": "stdout",
     "output_type": "stream",
     "text": [
      "MultinomialNB()\n",
      "predicted-y [0 0 0 0 1] actual-y [0 0 0 0 1]\n",
      "predicted-y_shape (1393,) actual-y-shape (1393,)\n"
     ]
    },
    {
     "data": {
      "image/png": "[encoded data removed]",
      "text/plain": [
       "<Figure size 720x144 with 2 Axes>"
      ]
     },
     "metadata": {
      "needs_background": "light"
     },
     "output_type": "display_data"
    },
    {
     "name": "stdout",
     "output_type": "stream",
     "text": [
      "              precision    recall  f1-score   support\n",
      "\n",
      "           0       0.98      0.99      0.98      1195\n",
      "           1       0.94      0.87      0.90       198\n",
      "\n",
      "    accuracy                           0.97      1393\n",
      "   macro avg       0.96      0.93      0.94      1393\n",
      "weighted avg       0.97      0.97      0.97      1393\n",
      "\n",
      "accuracy-score 0.9734386216798278\n",
      "Model score 0.9734386216798278\n"
     ]
    }
   ],
   "source": [
    "from sklearn.naive_bayes import MultinomialNB\n",
    "c=MultinomialNB()\n",
    "print(c.fit(x_train,y_train))\n",
    "y_pred=c.predict(x_test)\n",
    "print(f'predicted-y',y_pred[:5],'actual-y',y_test.values[:5])\n",
    "print(f'predicted-y_shape',y_pred.shape,'actual-y-shape',y_test.values.shape)\n",
    "from sklearn.metrics import confusion_matrix,accuracy_score,classification_report\n",
    "cm=confusion_matrix(y_pred,y_test)\n",
    "plt.figure(figsize=(10,2))\n",
    "sns.heatmap(cm,annot=True)\n",
    "plt.plot(y_pred,y_test)\n",
    "plt.xlabel('predicted-y')\n",
    "plt.ylabel('actual-y')\n",
    "plt.show()\n",
    "print(classification_report(y_pred,y_test))\n",
    "print('accuracy-score',accuracy_score(y_pred,y_test))\n",
    "print('Model score',c.score(x_test,y_test))"
   ]
  },
  {
   "cell_type": "code",
   "execution_count": null,
   "id": "2d7f2b3b",
   "metadata": {},
   "outputs": [],
   "source": []
  },
  {
   "cell_type": "markdown",
   "id": "fca7db70",
   "metadata": {},
   "source": [
    "# Logistic Regression"
   ]
  },
  {
   "cell_type": "code",
   "execution_count": 87,
   "id": "8dc92f37",
   "metadata": {},
   "outputs": [
    {
     "name": "stdout",
     "output_type": "stream",
     "text": [
      "LogisticRegression()\n",
      "predicted-y [0 0 0 0 0] actual-y [0 0 0 0 1]\n",
      "predicted-y_shape (1393,) actual-y-shape (1393,)\n"
     ]
    },
    {
     "data": {
      "image/png": "[encoded data removed]",
      "text/plain": [
       "<Figure size 720x144 with 2 Axes>"
      ]
     },
     "metadata": {
      "needs_background": "light"
     },
     "output_type": "display_data"
    },
    {
     "name": "stdout",
     "output_type": "stream",
     "text": [
      "              precision    recall  f1-score   support\n",
      "\n",
      "           0       1.00      0.98      0.99      1235\n",
      "           1       0.85      0.99      0.92       158\n",
      "\n",
      "    accuracy                           0.98      1393\n",
      "   macro avg       0.92      0.99      0.95      1393\n",
      "weighted avg       0.98      0.98      0.98      1393\n",
      "\n",
      "accuracy-score 0.9791816223977028\n",
      "Model score 0.9791816223977028\n"
     ]
    }
   ],
   "source": [
    "from sklearn.linear_model import LogisticRegression\n",
    "c=LogisticRegression()\n",
    "print(c.fit(x_train,y_train.values))\n",
    "y_pred=c.predict(x_test)\n",
    "print(f'predicted-y',y_pred[:5],'actual-y',y_test.values[:5])\n",
    "print(f'predicted-y_shape',y_pred.shape,'actual-y-shape',y_test.values.shape)\n",
    "from sklearn.metrics import confusion_matrix,accuracy_score,classification_report\n",
    "cm=confusion_matrix(y_pred,y_test)\n",
    "plt.figure(figsize=(10,2))\n",
    "sns.heatmap(cm,annot=True)\n",
    "plt.plot(y_pred,y_test)\n",
    "plt.xlabel('predicted-y')\n",
    "plt.ylabel('actual-y')\n",
    "plt.show()\n",
    "print(classification_report(y_pred,y_test))\n",
    "print('accuracy-score',accuracy_score(y_pred,y_test))\n",
    "print('Model score',c.score(x_test,y_test))"
   ]
  },
  {
   "cell_type": "markdown",
   "id": "d0a2181f",
   "metadata": {},
   "source": [
    "# Decision Tree "
   ]
  },
  {
   "cell_type": "code",
   "execution_count": 88,
   "id": "856d17a6",
   "metadata": {},
   "outputs": [
    {
     "name": "stdout",
     "output_type": "stream",
     "text": [
      "DecisionTreeClassifier()\n",
      "predicted-y [0 0 0 0 0] actual-y [0 0 0 0 1]\n",
      "predicted-y_shape (1393,) actual-y-shape (1393,)\n"
     ]
    },
    {
     "data": {
      "image/png": "[encoded data removed]",
      "text/plain": [
       "<Figure size 720x144 with 2 Axes>"
      ]
     },
     "metadata": {
      "needs_background": "light"
     },
     "output_type": "display_data"
    },
    {
     "name": "stdout",
     "output_type": "stream",
     "text": [
      "              precision    recall  f1-score   support\n",
      "\n",
      "           0       0.99      0.97      0.98      1231\n",
      "           1       0.79      0.90      0.84       162\n",
      "\n",
      "    accuracy                           0.96      1393\n",
      "   macro avg       0.89      0.93      0.91      1393\n",
      "weighted avg       0.96      0.96      0.96      1393\n",
      "\n",
      "accuracy-score 0.9605168700646087\n",
      "Model score 0.9605168700646087\n"
     ]
    }
   ],
   "source": [
    "from sklearn.tree import DecisionTreeClassifier\n",
    "c=DecisionTreeClassifier()\n",
    "print(c.fit(x_train,y_train))\n",
    "y_pred=c.predict(x_test)\n",
    "print(f'predicted-y',y_pred[:5],'actual-y',y_test.values[:5])\n",
    "print(f'predicted-y_shape',y_pred.shape,'actual-y-shape',y_test.values.shape)\n",
    "from sklearn.metrics import confusion_matrix,accuracy_score,classification_report\n",
    "cm=confusion_matrix(y_pred,y_test)\n",
    "plt.figure(figsize=(10,2))\n",
    "sns.heatmap(cm,annot=True)\n",
    "plt.plot(y_pred,y_test)\n",
    "plt.xlabel('predicted-y')\n",
    "plt.ylabel('actual-y')\n",
    "plt.show()\n",
    "print(classification_report(y_pred,y_test))\n",
    "print('accuracy-score',accuracy_score(y_pred,y_test))\n",
    "print('Model score',c.score(x_test,y_test))"
   ]
  },
  {
   "cell_type": "markdown",
   "id": "77f38186",
   "metadata": {},
   "source": [
    "# Rendom Forest"
   ]
  },
  {
   "cell_type": "code",
   "execution_count": 89,
   "id": "7ea62abf",
   "metadata": {},
   "outputs": [
    {
     "name": "stdout",
     "output_type": "stream",
     "text": [
      "RandomForestClassifier()\n",
      "predicted-y [0 0 0 0 0] actual-y [0 0 0 0 1]\n",
      "predicted-y_shape (1393,) actual-y-shape (1393,)\n"
     ]
    },
    {
     "data": {
      "image/png": "[encoded data removed]",
      "text/plain": [
       "<Figure size 720x144 with 2 Axes>"
      ]
     },
     "metadata": {
      "needs_background": "light"
     },
     "output_type": "display_data"
    },
    {
     "name": "stdout",
     "output_type": "stream",
     "text": [
      "              precision    recall  f1-score   support\n",
      "\n",
      "           0       1.00      0.97      0.99      1244\n",
      "           1       0.81      1.00      0.89       149\n",
      "\n",
      "    accuracy                           0.97      1393\n",
      "   macro avg       0.90      0.99      0.94      1393\n",
      "weighted avg       0.98      0.97      0.98      1393\n",
      "\n",
      "accuracy-score 0.9741564967695621\n",
      "Model score 0.9741564967695621\n"
     ]
    }
   ],
   "source": [
    "from sklearn.ensemble import RandomForestClassifier\n",
    "c=RandomForestClassifier()\n",
    "print(c.fit(x_train,y_train))\n",
    "y_pred=c.predict(x_test)\n",
    "print(f'predicted-y',y_pred[:5],'actual-y',y_test.values[:5])\n",
    "print(f'predicted-y_shape',y_pred.shape,'actual-y-shape',y_test.values.shape)\n",
    "from sklearn.metrics import confusion_matrix,accuracy_score,classification_report\n",
    "cm=confusion_matrix(y_pred,y_test)\n",
    "plt.figure(figsize=(10,2))\n",
    "sns.heatmap(cm,annot=True)\n",
    "plt.plot(y_pred,y_test)\n",
    "plt.xlabel('predicted-y')\n",
    "plt.ylabel('actual-y')\n",
    "plt.show()\n",
    "print(classification_report(y_pred,y_test))\n",
    "print('accuracy-score',accuracy_score(y_pred,y_test))\n",
    "print('Model score',c.score(x_test,y_test))"
   ]
  },
  {
   "cell_type": "markdown",
   "id": "cd060222",
   "metadata": {},
   "source": [
    "# Support Vecter Machine "
   ]
  },
  {
   "cell_type": "code",
   "execution_count": 90,
   "id": "d8058f0c",
   "metadata": {},
   "outputs": [
    {
     "name": "stdout",
     "output_type": "stream",
     "text": [
      "SVC(kernel='poly')\n",
      "predicted-y [0 0 0 0 0] actual-y [0 0 0 0 1]\n",
      "predicted-y_shape (1393,) actual-y-shape (1393,)\n"
     ]
    },
    {
     "data": {
      "image/png": "[encoded data removed]",
      "text/plain": [
       "<Figure size 720x144 with 2 Axes>"
      ]
     },
     "metadata": {
      "needs_background": "light"
     },
     "output_type": "display_data"
    },
    {
     "name": "stdout",
     "output_type": "stream",
     "text": [
      "              precision    recall  f1-score   support\n",
      "\n",
      "           0       1.00      0.94      0.97      1289\n",
      "           1       0.56      0.99      0.71       104\n",
      "\n",
      "    accuracy                           0.94      1393\n",
      "   macro avg       0.78      0.96      0.84      1393\n",
      "weighted avg       0.97      0.94      0.95      1393\n",
      "\n",
      "accuracy-score 0.9404163675520459\n",
      "Model score 0.9404163675520459\n"
     ]
    }
   ],
   "source": [
    "from sklearn.svm import SVC\n",
    "c=SVC(kernel='poly')\n",
    "print(c.fit(x_train,y_train))\n",
    "y_pred=c.predict(x_test)\n",
    "print(f'predicted-y',y_pred[:5],'actual-y',y_test.values[:5])\n",
    "print(f'predicted-y_shape',y_pred.shape,'actual-y-shape',y_test.values.shape)\n",
    "from sklearn.metrics import confusion_matrix,accuracy_score,classification_report\n",
    "cm=confusion_matrix(y_pred,y_test)\n",
    "plt.figure(figsize=(10,2))\n",
    "sns.heatmap(cm,annot=True)\n",
    "plt.plot(y_pred,y_test)\n",
    "plt.xlabel('predicted-y')\n",
    "plt.ylabel('actual-y')\n",
    "plt.show()\n",
    "print(classification_report(y_pred,y_test))\n",
    "print('accuracy-score',accuracy_score(y_pred,y_test))\n",
    "print('Model score',c.score(x_test,y_test))"
   ]
  },
  {
   "cell_type": "code",
   "execution_count": 91,
   "id": "ee8e18da",
   "metadata": {},
   "outputs": [
    {
     "name": "stdout",
     "output_type": "stream",
     "text": [
      "SVC(kernel='linear')\n",
      "predicted-y [0 0 0 0 0] actual-y [0 0 0 0 1]\n",
      "predicted-y_shape (1393,) actual-y-shape (1393,)\n"
     ]
    },
    {
     "data": {
      "image/png": "[encoded data removed]",
      "text/plain": [
       "<Figure size 720x144 with 2 Axes>"
      ]
     },
     "metadata": {
      "needs_background": "light"
     },
     "output_type": "display_data"
    },
    {
     "name": "stdout",
     "output_type": "stream",
     "text": [
      "              precision    recall  f1-score   support\n",
      "\n",
      "           0       0.99      0.98      0.99      1227\n",
      "           1       0.86      0.96      0.91       166\n",
      "\n",
      "    accuracy                           0.98      1393\n",
      "   macro avg       0.93      0.97      0.95      1393\n",
      "weighted avg       0.98      0.98      0.98      1393\n",
      "\n",
      "accuracy-score 0.9763101220387652\n",
      "Model score 0.9763101220387652\n"
     ]
    }
   ],
   "source": [
    "from sklearn.svm import SVC\n",
    "c=SVC(kernel='linear')\n",
    "print(c.fit(x_train,y_train))\n",
    "y_pred=c.predict(x_test)\n",
    "print(f'predicted-y',y_pred[:5],'actual-y',y_test.values[:5])\n",
    "print(f'predicted-y_shape',y_pred.shape,'actual-y-shape',y_test.values.shape)\n",
    "from sklearn.metrics import confusion_matrix,accuracy_score,classification_report\n",
    "cm=confusion_matrix(y_pred,y_test)\n",
    "plt.figure(figsize=(10,2))\n",
    "sns.heatmap(cm,annot=True)\n",
    "plt.plot(y_pred,y_test)\n",
    "plt.xlabel('predicted-y')\n",
    "plt.ylabel('actual-y')\n",
    "plt.show()\n",
    "print(classification_report(y_pred,y_test))\n",
    "print('accuracy-score',accuracy_score(y_pred,y_test))\n",
    "print('Model score',c.score(x_test,y_test))"
   ]
  },
  {
   "cell_type": "code",
   "execution_count": 92,
   "id": "31ea79ef",
   "metadata": {},
   "outputs": [
    {
     "name": "stdout",
     "output_type": "stream",
     "text": [
      "SVC()\n",
      "predicted-y [0 0 0 0 0] actual-y [0 0 0 0 1]\n",
      "predicted-y_shape (1393,) actual-y-shape (1393,)\n"
     ]
    },
    {
     "data": {
      "image/png": "[encoded data removed]",
      "text/plain": [
       "<Figure size 720x144 with 2 Axes>"
      ]
     },
     "metadata": {
      "needs_background": "light"
     },
     "output_type": "display_data"
    },
    {
     "name": "stdout",
     "output_type": "stream",
     "text": [
      "              precision    recall  f1-score   support\n",
      "\n",
      "           0       1.00      0.97      0.98      1246\n",
      "           1       0.79      0.99      0.88       147\n",
      "\n",
      "    accuracy                           0.97      1393\n",
      "   macro avg       0.89      0.98      0.93      1393\n",
      "weighted avg       0.98      0.97      0.97      1393\n",
      "\n",
      "accuracy-score 0.9712849964106246\n",
      "Model score 0.9712849964106246\n"
     ]
    }
   ],
   "source": [
    "from sklearn.svm import SVC\n",
    "c=SVC(kernel='rbf')\n",
    "print(c.fit(x_train,y_train))\n",
    "y_pred=c.predict(x_test)\n",
    "print(f'predicted-y',y_pred[:5],'actual-y',y_test.values[:5])\n",
    "print(f'predicted-y_shape',y_pred.shape,'actual-y-shape',y_test.values.shape)\n",
    "from sklearn.metrics import confusion_matrix,accuracy_score,classification_report\n",
    "cm=confusion_matrix(y_pred,y_test)\n",
    "plt.figure(figsize=(10,2))\n",
    "sns.heatmap(cm,annot=True)\n",
    "plt.plot(y_pred,y_test)\n",
    "plt.xlabel('predicted-y')\n",
    "plt.ylabel('actual-y')\n",
    "plt.show()\n",
    "print(classification_report(y_pred,y_test))\n",
    "print('accuracy-score',accuracy_score(y_pred,y_test))\n",
    "print('Model score',c.score(x_test,y_test))"
   ]
  },
  {
   "cell_type": "code",
   "execution_count": null,
   "id": "5d5b17a6",
   "metadata": {},
   "outputs": [],
   "source": []
  },
  {
   "cell_type": "markdown",
   "id": "b1912413",
   "metadata": {},
   "source": [
    "# [Tfidf] - Term Frequncy Inverse Document Frequency\n",
    "- Naive Bayes - MultinomialNB, BernaulliNB\n",
    "- DecisionTreeClassifier\n",
    "- RandomForestClassifier\n",
    "- SVC poly,linear, rbf"
   ]
  },
  {
   "cell_type": "code",
   "execution_count": 93,
   "id": "d7207e15",
   "metadata": {},
   "outputs": [],
   "source": [
    "from sklearn.feature_extraction.text import TfidfVectorizer\n",
    "tf=TfidfVectorizer()\n",
    "x_tf=tf.fit_transform(df['v2'])"
   ]
  },
  {
   "cell_type": "code",
   "execution_count": 94,
   "id": "1c89c92b",
   "metadata": {},
   "outputs": [
    {
     "data": {
      "text/plain": [
       "((4179, 7789), (1393, 7789), (4179,), (1393,))"
      ]
     },
     "execution_count": 94,
     "metadata": {},
     "output_type": "execute_result"
    }
   ],
   "source": [
    "from sklearn.model_selection import train_test_split\n",
    "x_train,x_test,y_train,y_test=train_test_split(x_cv,df['v1'],test_size=.25)\n",
    "x_train.shape,x_test.shape,y_train.shape,y_test.shape"
   ]
  },
  {
   "cell_type": "markdown",
   "id": "37469e1a",
   "metadata": {},
   "source": [
    "# Naive Bayes"
   ]
  },
  {
   "cell_type": "code",
   "execution_count": 95,
   "id": "b8a83431",
   "metadata": {},
   "outputs": [
    {
     "name": "stdout",
     "output_type": "stream",
     "text": [
      "BernoulliNB()\n",
      "predicted-y [1 0 0 0 0] actual-y [1 0 0 0 0]\n",
      "predicted-y_shape (1393,) actual-y-shape (1393,)\n"
     ]
    },
    {
     "data": {
      "image/png": "[encoded data removed]",
      "text/plain": [
       "<Figure size 720x144 with 2 Axes>"
      ]
     },
     "metadata": {
      "needs_background": "light"
     },
     "output_type": "display_data"
    },
    {
     "name": "stdout",
     "output_type": "stream",
     "text": [
      "              precision    recall  f1-score   support\n",
      "\n",
      "           0       1.00      0.97      0.98      1239\n",
      "           1       0.79      0.97      0.87       154\n",
      "\n",
      "    accuracy                           0.97      1393\n",
      "   macro avg       0.89      0.97      0.93      1393\n",
      "weighted avg       0.97      0.97      0.97      1393\n",
      "\n",
      "accuracy-score 0.9676956209619526\n",
      "Model score 0.9676956209619526\n"
     ]
    }
   ],
   "source": [
    "from sklearn.naive_bayes import BernoulliNB\n",
    "c=BernoulliNB()\n",
    "print(c.fit(x_train,y_train))\n",
    "y_pred=c.predict(x_test)\n",
    "print(f'predicted-y',y_pred[:5],'actual-y',y_test.values[:5])\n",
    "print(f'predicted-y_shape',y_pred.shape,'actual-y-shape',y_test.values.shape)\n",
    "from sklearn.metrics import confusion_matrix,accuracy_score,classification_report\n",
    "cm=confusion_matrix(y_pred,y_test)\n",
    "plt.figure(figsize=(10,2))\n",
    "sns.heatmap(cm,annot=True)\n",
    "plt.plot(y_pred,y_test)\n",
    "plt.xlabel('predicted-y')\n",
    "plt.ylabel('actual-y')\n",
    "plt.show()\n",
    "print(classification_report(y_pred,y_test))\n",
    "print('accuracy-score',accuracy_score(y_pred,y_test))\n",
    "print('Model score',c.score(x_test,y_test))"
   ]
  },
  {
   "cell_type": "code",
   "execution_count": 96,
   "id": "36939b7d",
   "metadata": {},
   "outputs": [
    {
     "name": "stdout",
     "output_type": "stream",
     "text": [
      "MultinomialNB()\n",
      "predicted-y [1 0 0 0 0] actual-y [1 0 0 0 0]\n",
      "predicted-y_shape (1393,) actual-y-shape (1393,)\n"
     ]
    },
    {
     "data": {
      "image/png": "[encoded data removed]",
      "text/plain": [
       "<Figure size 720x144 with 2 Axes>"
      ]
     },
     "metadata": {
      "needs_background": "light"
     },
     "output_type": "display_data"
    },
    {
     "name": "stdout",
     "output_type": "stream",
     "text": [
      "              precision    recall  f1-score   support\n",
      "\n",
      "           0       0.98      0.99      0.98      1194\n",
      "           1       0.92      0.87      0.89       199\n",
      "\n",
      "    accuracy                           0.97      1393\n",
      "   macro avg       0.95      0.93      0.94      1393\n",
      "weighted avg       0.97      0.97      0.97      1393\n",
      "\n",
      "accuracy-score 0.9698492462311558\n",
      "Model score 0.9698492462311558\n"
     ]
    },
    {
     "data": {
      "text/plain": [
       "[<matplotlib.lines.Line2D at 0x1cee3271250>]"
      ]
     },
     "execution_count": 96,
     "metadata": {},
     "output_type": "execute_result"
    },
    {
     "data": {
      "image/png": "[encoded data removed]",
      "text/plain": [
       "<Figure size 432x288 with 1 Axes>"
      ]
     },
     "metadata": {
      "needs_background": "light"
     },
     "output_type": "display_data"
    }
   ],
   "source": [
    "from sklearn.naive_bayes import MultinomialNB\n",
    "c=MultinomialNB()\n",
    "print(c.fit(x_train,y_train))\n",
    "y_pred=c.predict(x_test)\n",
    "print(f'predicted-y',y_pred[:5],'actual-y',y_test.values[:5])\n",
    "print(f'predicted-y_shape',y_pred.shape,'actual-y-shape',y_test.values.shape)\n",
    "from sklearn.metrics import confusion_matrix,accuracy_score,classification_report\n",
    "cm=confusion_matrix(y_pred,y_test)\n",
    "plt.figure(figsize=(10,2))\n",
    "sns.heatmap(cm,annot=True)\n",
    "plt.plot(y_pred,y_test)\n",
    "plt.xlabel('predicted-y')\n",
    "plt.ylabel('actual-y')\n",
    "plt.show()\n",
    "print(classification_report(y_pred,y_test))\n",
    "print('accuracy-score',accuracy_score(y_pred,y_test))\n",
    "print('Model score',c.score(x_test,y_test))\n",
    "plt.plot(y_pred,y_test)\n"
   ]
  },
  {
   "cell_type": "markdown",
   "id": "400c2f3f",
   "metadata": {},
   "source": [
    "# Decision Tree Clssifier"
   ]
  },
  {
   "cell_type": "code",
   "execution_count": 97,
   "id": "f0ffedd6",
   "metadata": {},
   "outputs": [
    {
     "name": "stdout",
     "output_type": "stream",
     "text": [
      "DecisionTreeClassifier()\n",
      "predicted-y [0 0 0 0 0] actual-y [1 0 0 0 0]\n",
      "predicted-y_shape (1393,) actual-y-shape (1393,)\n"
     ]
    },
    {
     "data": {
      "image/png": "[encoded data removed]",
      "text/plain": [
       "<Figure size 720x144 with 2 Axes>"
      ]
     },
     "metadata": {
      "needs_background": "light"
     },
     "output_type": "display_data"
    },
    {
     "name": "stdout",
     "output_type": "stream",
     "text": [
      "              precision    recall  f1-score   support\n",
      "\n",
      "           0       0.99      0.97      0.98      1229\n",
      "           1       0.80      0.92      0.86       164\n",
      "\n",
      "    accuracy                           0.96      1393\n",
      "   macro avg       0.89      0.94      0.92      1393\n",
      "weighted avg       0.97      0.96      0.96      1393\n",
      "\n",
      "accuracy-score 0.9633883704235463\n",
      "Model score 0.9633883704235463\n"
     ]
    }
   ],
   "source": [
    "from sklearn.tree import DecisionTreeClassifier\n",
    "c=DecisionTreeClassifier()\n",
    "print(c.fit(x_train,y_train))\n",
    "y_pred=c.predict(x_test)\n",
    "print(f'predicted-y',y_pred[:5],'actual-y',y_test.values[:5])\n",
    "print(f'predicted-y_shape',y_pred.shape,'actual-y-shape',y_test.values.shape)\n",
    "from sklearn.metrics import confusion_matrix,accuracy_score,classification_report\n",
    "cm=confusion_matrix(y_pred,y_test)\n",
    "plt.figure(figsize=(10,2))\n",
    "sns.heatmap(cm,annot=True)\n",
    "plt.plot(y_pred,y_test)\n",
    "plt.xlabel('predicted-y')\n",
    "plt.ylabel('actual-y')\n",
    "plt.show()\n",
    "print(classification_report(y_pred,y_test))\n",
    "print('accuracy-score',accuracy_score(y_pred,y_test))\n",
    "print('Model score',c.score(x_test,y_test))"
   ]
  },
  {
   "cell_type": "markdown",
   "id": "f75e82e4",
   "metadata": {},
   "source": [
    "# Random Forest Classifier"
   ]
  },
  {
   "cell_type": "code",
   "execution_count": 98,
   "id": "c6523d78",
   "metadata": {},
   "outputs": [
    {
     "name": "stdout",
     "output_type": "stream",
     "text": [
      "RandomForestClassifier()\n",
      "predicted-y [1 0 0 0 0] actual-y [1 0 0 0 0]\n",
      "predicted-y_shape (1393,) actual-y-shape (1393,)\n"
     ]
    },
    {
     "data": {
      "image/png": "[encoded data removed]",
      "text/plain": [
       "<Figure size 720x144 with 2 Axes>"
      ]
     },
     "metadata": {
      "needs_background": "light"
     },
     "output_type": "display_data"
    },
    {
     "name": "stdout",
     "output_type": "stream",
     "text": [
      "              precision    recall  f1-score   support\n",
      "\n",
      "           0       1.00      0.97      0.98      1247\n",
      "           1       0.77      1.00      0.87       146\n",
      "\n",
      "    accuracy                           0.97      1393\n",
      "   macro avg       0.89      0.98      0.93      1393\n",
      "weighted avg       0.98      0.97      0.97      1393\n",
      "\n",
      "accuracy-score 0.9691313711414213\n",
      "Model score 0.9691313711414213\n"
     ]
    }
   ],
   "source": [
    "from sklearn.ensemble import RandomForestClassifier\n",
    "c=RandomForestClassifier()\n",
    "print(c.fit(x_train,y_train))\n",
    "y_pred=c.predict(x_test)\n",
    "print(f'predicted-y',y_pred[:5],'actual-y',y_test.values[:5])\n",
    "print(f'predicted-y_shape',y_pred.shape,'actual-y-shape',y_test.values.shape)\n",
    "from sklearn.metrics import confusion_matrix,accuracy_score,classification_report\n",
    "cm=confusion_matrix(y_pred,y_test)\n",
    "plt.figure(figsize=(10,2))\n",
    "sns.heatmap(cm,annot=True)\n",
    "plt.plot(y_pred,y_test)\n",
    "plt.xlabel('predicted-y')\n",
    "plt.ylabel('actual-y')\n",
    "plt.show()\n",
    "print(classification_report(y_pred,y_test))\n",
    "print('accuracy-score',accuracy_score(y_pred,y_test))\n",
    "print('Model score',c.score(x_test,y_test))"
   ]
  },
  {
   "cell_type": "markdown",
   "id": "3aa8920c",
   "metadata": {},
   "source": [
    "# Support Vecter Machine"
   ]
  },
  {
   "cell_type": "code",
   "execution_count": 99,
   "id": "71a1a4eb",
   "metadata": {},
   "outputs": [
    {
     "name": "stdout",
     "output_type": "stream",
     "text": [
      "SVC()\n",
      "predicted-y [1 0 0 0 0] actual-y [1 0 0 0 0]\n",
      "predicted-y_shape (1393,) actual-y-shape (1393,)\n"
     ]
    },
    {
     "data": {
      "image/png": "[encoded data removed]",
      "text/plain": [
       "<Figure size 720x144 with 2 Axes>"
      ]
     },
     "metadata": {
      "needs_background": "light"
     },
     "output_type": "display_data"
    },
    {
     "name": "stdout",
     "output_type": "stream",
     "text": [
      "              precision    recall  f1-score   support\n",
      "\n",
      "           0       1.00      0.96      0.98      1255\n",
      "           1       0.73      1.00      0.84       138\n",
      "\n",
      "    accuracy                           0.96      1393\n",
      "   macro avg       0.87      0.98      0.91      1393\n",
      "weighted avg       0.97      0.96      0.97      1393\n",
      "\n",
      "accuracy-score 0.9633883704235463\n",
      "Model score 0.9633883704235463\n"
     ]
    }
   ],
   "source": [
    "from sklearn.svm import SVC\n",
    "c=SVC(kernel='rbf')\n",
    "print(c.fit(x_train,y_train))\n",
    "y_pred=c.predict(x_test)\n",
    "print(f'predicted-y',y_pred[:5],'actual-y',y_test.values[:5])\n",
    "print(f'predicted-y_shape',y_pred.shape,'actual-y-shape',y_test.values.shape)\n",
    "from sklearn.metrics import confusion_matrix,accuracy_score,classification_report\n",
    "cm=confusion_matrix(y_pred,y_test)\n",
    "plt.figure(figsize=(10,2))\n",
    "sns.heatmap(cm,annot=True)\n",
    "plt.plot(y_pred,y_test)\n",
    "plt.xlabel('predicted-y')\n",
    "plt.ylabel('actual-y')\n",
    "plt.show()\n",
    "print(classification_report(y_pred,y_test))\n",
    "print('accuracy-score',accuracy_score(y_pred,y_test))\n",
    "print('Model score',c.score(x_test,y_test))"
   ]
  },
  {
   "cell_type": "code",
   "execution_count": 100,
   "id": "4e3161a7",
   "metadata": {},
   "outputs": [
    {
     "name": "stdout",
     "output_type": "stream",
     "text": [
      "SVC(kernel='linear')\n",
      "predicted-y [1 0 0 0 0] actual-y [1 0 0 0 0]\n",
      "predicted-y_shape (1393,) actual-y-shape (1393,)\n"
     ]
    },
    {
     "data": {
      "image/png": "[encoded data removed]",
      "text/plain": [
       "<Figure size 720x144 with 2 Axes>"
      ]
     },
     "metadata": {
      "needs_background": "light"
     },
     "output_type": "display_data"
    },
    {
     "name": "stdout",
     "output_type": "stream",
     "text": [
      "              precision    recall  f1-score   support\n",
      "\n",
      "           0       1.00      0.97      0.99      1236\n",
      "           1       0.83      0.99      0.90       157\n",
      "\n",
      "    accuracy                           0.98      1393\n",
      "   macro avg       0.91      0.98      0.94      1393\n",
      "weighted avg       0.98      0.98      0.98      1393\n",
      "\n",
      "accuracy-score 0.9755922469490309\n",
      "Model score 0.9755922469490309\n"
     ]
    }
   ],
   "source": [
    "from sklearn.svm import SVC\n",
    "c=SVC(kernel='linear')\n",
    "print(c.fit(x_train,y_train))\n",
    "y_pred=c.predict(x_test)\n",
    "print(f'predicted-y',y_pred[:5],'actual-y',y_test.values[:5])\n",
    "print(f'predicted-y_shape',y_pred.shape,'actual-y-shape',y_test.values.shape)\n",
    "from sklearn.metrics import confusion_matrix,accuracy_score,classification_report\n",
    "cm=confusion_matrix(y_pred,y_test)\n",
    "plt.figure(figsize=(10,2))\n",
    "sns.heatmap(cm,annot=True)\n",
    "plt.plot(y_pred,y_test)\n",
    "plt.xlabel('predicted-y')\n",
    "plt.ylabel('actual-y')\n",
    "plt.show()\n",
    "print(classification_report(y_pred,y_test))\n",
    "print('accuracy-score',accuracy_score(y_pred,y_test))\n",
    "print('Model score',c.score(x_test,y_test))"
   ]
  },
  {
   "cell_type": "code",
   "execution_count": 101,
   "id": "81d6bc71",
   "metadata": {},
   "outputs": [
    {
     "name": "stdout",
     "output_type": "stream",
     "text": [
      "SVC(kernel='poly')\n",
      "predicted-y [0 0 0 0 0] actual-y [1 0 0 0 0]\n",
      "predicted-y_shape (1393,) actual-y-shape (1393,)\n"
     ]
    },
    {
     "data": {
      "image/png": "[encoded data removed]",
      "text/plain": [
       "<Figure size 720x144 with 2 Axes>"
      ]
     },
     "metadata": {
      "needs_background": "light"
     },
     "output_type": "display_data"
    },
    {
     "name": "stdout",
     "output_type": "stream",
     "text": [
      "              precision    recall  f1-score   support\n",
      "\n",
      "           0       1.00      0.93      0.96      1300\n",
      "           1       0.49      0.99      0.65        93\n",
      "\n",
      "    accuracy                           0.93      1393\n",
      "   macro avg       0.74      0.96      0.81      1393\n",
      "weighted avg       0.96      0.93      0.94      1393\n",
      "\n",
      "accuracy-score 0.9296482412060302\n",
      "Model score 0.9296482412060302\n"
     ]
    }
   ],
   "source": [
    "from sklearn.svm import SVC\n",
    "c=SVC(kernel='poly')\n",
    "print(c.fit(x_train,y_train))\n",
    "y_pred=c.predict(x_test)\n",
    "print(f'predicted-y',y_pred[:5],'actual-y',y_test.values[:5])\n",
    "print(f'predicted-y_shape',y_pred.shape,'actual-y-shape',y_test.values.shape)\n",
    "from sklearn.metrics import confusion_matrix,accuracy_score,classification_report\n",
    "cm=confusion_matrix(y_pred,y_test)\n",
    "plt.figure(figsize=(10,2))\n",
    "sns.heatmap(cm,annot=True)\n",
    "plt.plot(y_pred,y_test)\n",
    "plt.xlabel('predicted-y')\n",
    "plt.ylabel('actual-y')\n",
    "plt.show()\n",
    "print(classification_report(y_pred,y_test))\n",
    "print('accuracy-score',accuracy_score(y_pred,y_test))\n",
    "print('Model score',c.score(x_test,y_test))"
   ]
  },
  {
   "cell_type": "raw",
   "id": "e22cbe57",
   "metadata": {
    "scrolled": true
   },
   "source": []
  },
  {
   "cell_type": "raw",
   "id": "88d8e008",
   "metadata": {},
   "source": []
  },
  {
   "cell_type": "raw",
   "id": "1f021799",
   "metadata": {},
   "source": []
  }
 ],
 "metadata": {
  "kernelspec": {
   "display_name": "Python 3 (ipykernel)",
   "language": "python",
   "name": "python3"
  },
  "language_info": {
   "codemirror_mode": {
    "name": "ipython",
    "version": 3
   },
   "file_extension": ".py",
   "mimetype": "text/x-python",
   "name": "python",
   "nbconvert_exporter": "python",
   "pygments_lexer": "ipython3",
   "version": "3.9.7"
  }
 },
 "nbformat": 4,
 "nbformat_minor": 5
}
